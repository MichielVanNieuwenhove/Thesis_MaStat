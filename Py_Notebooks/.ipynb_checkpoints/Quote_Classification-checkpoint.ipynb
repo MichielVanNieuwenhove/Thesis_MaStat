{
 "cells": [
  {
   "cell_type": "code",
   "execution_count": 42,
   "id": "890e1953-4664-4865-96d4-8aafa1941d84",
   "metadata": {},
   "outputs": [],
   "source": [
    "# Libs\n",
    "import pandas as pd\n",
    "import random\n",
    "import numpy as np\n",
    "import networkx as nx\n",
    "import matplotlib.pyplot as plt\n",
    "import math\n",
    "import re\n",
    "\n",
    "from sklearn.model_selection import train_test_split\n",
    "from sklearn.metrics import accuracy_score, silhouette_score\n",
    "from sklearn.cluster import KMeans, DBSCAN, AgglomerativeClustering\n",
    "from sklearn.manifold import TSNE\n",
    "from sklearn.decomposition import PCA\n",
    "from sklearn.preprocessing import StandardScaler\n",
    "from sklearn.mixture import GaussianMixture\n",
    "\n",
    "from transformers import AutoTokenizer, BertForSequenceClassification, Trainer, TrainingArguments, AutoModel\n",
    "from datasets import Dataset\n",
    "import torch\n",
    "\n",
    "from scipy.special import softmax\n",
    "\n",
    "from statsmodels.stats.proportion import proportion_confint"
   ]
  },
  {
   "cell_type": "code",
   "execution_count": 43,
   "id": "26669a37-d9d0-48fd-9998-b10d17b14030",
   "metadata": {},
   "outputs": [],
   "source": [
    "# General\n",
    "SEED = 42\n",
    "TEST_SIZE = 0.4\n",
    "use_gpu = False\n",
    "num_classes = 2\n",
    "random.seed(SEED)"
   ]
  },
  {
   "cell_type": "code",
   "execution_count": 44,
   "id": "ba91993c-fc5d-41de-9a5c-bcb26f321bf2",
   "metadata": {},
   "outputs": [
    {
     "name": "stdout",
     "output_type": "stream",
     "text": [
      "True\n",
      "NVIDIA GeForce RTX 4070 Laptop GPU\n"
     ]
    }
   ],
   "source": [
    "# Check GPU availability\n",
    "print(torch.cuda.is_available())\n",
    "print(torch.cuda.get_device_name(0) if torch.cuda.is_available() else \"No GPU\")"
   ]
  },
  {
   "cell_type": "markdown",
   "id": "bed057f9-9d09-44e3-adb7-71d382892513",
   "metadata": {},
   "source": [
    "# Loading Data"
   ]
  },
  {
   "cell_type": "code",
   "execution_count": 45,
   "id": "3b6d977b-0a29-4281-9040-ce720168320e",
   "metadata": {},
   "outputs": [],
   "source": [
    "df_kp_labeled = pd.read_feather('../Data/TrainingData/df_qt_labeled.feather')\n",
    "df_kp_unlabeled = pd.read_feather('../Data/TrainingData/df_qt_unlabeled.feather')"
   ]
  },
  {
   "cell_type": "code",
   "execution_count": 46,
   "id": "f067021d-8fea-4926-a041-c20f1f469eb0",
   "metadata": {},
   "outputs": [
    {
     "name": "stdout",
     "output_type": "stream",
     "text": [
      "   ID_kp  ID_dta                                          KEY_POINT  \\\n",
      "0      2      25  It was big, big cramps in my abdomen. Vomiting...   \n",
      "1      6      28  [...] so he gave me [name antispasmodic] and h...   \n",
      "2     17      50  I went to a psychologist once, back then becau...   \n",
      "3     18      50   I always have to have a toilet within reach. ...   \n",
      "4     32      66  “ I also had surgery [...] then started taking...   \n",
      "\n",
      "                                KEY_POINT_normalized  ID_kp_distinct  label  \n",
      "0  it was big, big cramps in my abdomen. vomiting...               1      1  \n",
      "1  [...] so he gave me [name antispasmodic] and h...               3      0  \n",
      "2  i went to a psychologist once, back then becau...              10      1  \n",
      "3  i always have to have a toilet within reach. s...              11      0  \n",
      "4  “ i also had surgery [...] then started taking...              25      0  \n"
     ]
    }
   ],
   "source": [
    "print(df_kp_labeled.head())"
   ]
  },
  {
   "cell_type": "code",
   "execution_count": 47,
   "id": "2167b604-ef4c-4775-9742-af5f20c61010",
   "metadata": {},
   "outputs": [
    {
     "name": "stdout",
     "output_type": "stream",
     "text": [
      "<class 'pandas.core.frame.DataFrame'>\n",
      "RangeIndex: 21 entries, 0 to 20\n",
      "Data columns (total 6 columns):\n",
      " #   Column                Non-Null Count  Dtype \n",
      "---  ------                --------------  ----- \n",
      " 0   ID_kp                 21 non-null     int32 \n",
      " 1   ID_dta                21 non-null     int32 \n",
      " 2   KEY_POINT             21 non-null     object\n",
      " 3   KEY_POINT_normalized  21 non-null     object\n",
      " 4   ID_kp_distinct        21 non-null     int64 \n",
      " 5   label                 21 non-null     int64 \n",
      "dtypes: int32(2), int64(2), object(2)\n",
      "memory usage: 968.0+ bytes\n"
     ]
    }
   ],
   "source": [
    "df_kp_labeled.info()"
   ]
  },
  {
   "cell_type": "code",
   "execution_count": 48,
   "id": "88f1080a-02cb-4752-a20b-a02dbeaf53dc",
   "metadata": {},
   "outputs": [
    {
     "name": "stdout",
     "output_type": "stream",
     "text": [
      "<class 'pandas.core.frame.DataFrame'>\n",
      "RangeIndex: 118 entries, 0 to 117\n",
      "Data columns (total 5 columns):\n",
      " #   Column                Non-Null Count  Dtype \n",
      "---  ------                --------------  ----- \n",
      " 0   ID_kp                 118 non-null    int32 \n",
      " 1   ID_dta                118 non-null    int32 \n",
      " 2   KEY_POINT             118 non-null    object\n",
      " 3   KEY_POINT_normalized  118 non-null    object\n",
      " 4   ID_kp_distinct        118 non-null    int64 \n",
      "dtypes: int32(2), int64(1), object(2)\n",
      "memory usage: 3.8+ KB\n"
     ]
    }
   ],
   "source": [
    "df_kp_unlabeled.info()"
   ]
  },
  {
   "cell_type": "markdown",
   "id": "50f6d688-7aec-4813-a519-eae755755412",
   "metadata": {},
   "source": [
    "# Importing Model"
   ]
  },
  {
   "cell_type": "code",
   "execution_count": 49,
   "id": "14e13c95-61a2-4497-9cb9-23561037bfcb",
   "metadata": {},
   "outputs": [],
   "source": [
    "model_name = \"bert-base-uncased\"\n",
    "tokenizer = AutoTokenizer.from_pretrained(model_name)"
   ]
  },
  {
   "cell_type": "code",
   "execution_count": 50,
   "id": "200e9106-8532-4e05-b4d3-326647bb7372",
   "metadata": {},
   "outputs": [],
   "source": [
    "def get_model():\n",
    "    model = BertForSequenceClassification.from_pretrained(model_name, num_labels=num_classes)\n",
    "\n",
    "    device = \"cpu\"\n",
    "    if use_gpu:\n",
    "        device = \"cuda\" if torch.cuda.is_available() else \"cpu\"\n",
    "    model.to(device)\n",
    "\n",
    "    return model"
   ]
  },
  {
   "cell_type": "markdown",
   "id": "16495451-8f76-4ca0-bf96-fed8fe6cc7fd",
   "metadata": {},
   "source": [
    "# Data Preprocessing"
   ]
  },
  {
   "cell_type": "markdown",
   "id": "f4e673f7-a80e-4208-ae32-57ca94700d9c",
   "metadata": {},
   "source": [
    "The data is normalized as follows."
   ]
  },
  {
   "cell_type": "code",
   "execution_count": 51,
   "id": "b587bcdf-bf5b-48dd-b6ee-9f507fac3619",
   "metadata": {},
   "outputs": [],
   "source": [
    "# df_kp['KEY_POINT_normalized'] = df_kp['KEY_POINT'].str.strip().str.replace('\\n', ' ').str.replace('\\r', ' ').str.lower()"
   ]
  },
  {
   "cell_type": "markdown",
   "id": "762de105-d65b-4d4b-8ce0-82bec323e989",
   "metadata": {},
   "source": [
    "## Tokenizing"
   ]
  },
  {
   "cell_type": "code",
   "execution_count": 52,
   "id": "37d5181b-0c21-4380-a5a0-e697d4c2369f",
   "metadata": {},
   "outputs": [
    {
     "name": "stdout",
     "output_type": "stream",
     "text": [
      "Maximum tokenized input length: 355\n"
     ]
    }
   ],
   "source": [
    "all_keypoints = df_kp_labeled['KEY_POINT_normalized'].tolist() + df_kp_unlabeled['KEY_POINT_normalized'].tolist()\n",
    "\n",
    "tokenized = tokenizer(\n",
    "    all_keypoints,\n",
    "    padding=False,\n",
    "    truncation=False,\n",
    "    return_tensors=None\n",
    ")\n",
    "\n",
    "# Calc max length\n",
    "lengths = [len(input_ids) for input_ids in tokenized['input_ids']]\n",
    "max_length = max(lengths)\n",
    "print(f\"Maximum tokenized input length: {max_length}\")"
   ]
  },
  {
   "cell_type": "code",
   "execution_count": 53,
   "id": "25c2f87c-81ab-4e4c-9e9b-fe6dd2838c76",
   "metadata": {},
   "outputs": [],
   "source": [
    "def tokenize_fn(example):\n",
    "    return tokenizer(example[\"KEY_POINT_normalized\"], truncation=True, padding=\"max_length\", max_length=max_length)\n",
    "\n",
    "dataset_labeled = Dataset.from_pandas(df_kp_labeled)\n",
    "dataset_unlabeled = Dataset.from_pandas(df_kp_unlabeled)"
   ]
  },
  {
   "cell_type": "code",
   "execution_count": 54,
   "id": "05688bfa-54dd-4ebe-8b1f-44dff558911f",
   "metadata": {},
   "outputs": [
    {
     "data": {
      "application/vnd.jupyter.widget-view+json": {
       "model_id": "8025011d2fd94f138356b659f7dd311a",
       "version_major": 2,
       "version_minor": 0
      },
      "text/plain": [
       "Map:   0%|          | 0/21 [00:00<?, ? examples/s]"
      ]
     },
     "metadata": {},
     "output_type": "display_data"
    },
    {
     "name": "stdout",
     "output_type": "stream",
     "text": [
      "                                           input_ids  \\\n",
      "0  [101, 2009, 2001, 2502, 1010, 2502, 13675, 251...   \n",
      "1  [101, 1031, 1012, 1012, 1012, 1033, 2061, 2002...   \n",
      "2  [101, 1045, 2253, 2000, 1037, 15034, 2320, 101...   \n",
      "3  [101, 1045, 2467, 2031, 2000, 2031, 1037, 1184...   \n",
      "4  [101, 1523, 1045, 2036, 2018, 5970, 1031, 1012...   \n",
      "\n",
      "                                      attention_mask  label  ID_kp_distinct  \n",
      "0  [1, 1, 1, 1, 1, 1, 1, 1, 1, 1, 1, 1, 1, 1, 1, ...      1               1  \n",
      "1  [1, 1, 1, 1, 1, 1, 1, 1, 1, 1, 1, 1, 1, 1, 1, ...      0               3  \n",
      "2  [1, 1, 1, 1, 1, 1, 1, 1, 1, 1, 1, 1, 1, 1, 1, ...      1              10  \n",
      "3  [1, 1, 1, 1, 1, 1, 1, 1, 1, 1, 1, 1, 1, 1, 1, ...      0              11  \n",
      "4  [1, 1, 1, 1, 1, 1, 1, 1, 1, 1, 1, 1, 1, 1, 1, ...      0              25  \n"
     ]
    }
   ],
   "source": [
    "# Labeled\n",
    "df_tokenized_labeled = dataset_labeled.map(tokenize_fn, batched=True)\n",
    "df_tokenized_labeled_pd = df_tokenized_labeled.to_pandas()\n",
    "df_tokenized_labeled_pd['label'] = df_tokenized_labeled_pd['label'].astype(int)\n",
    "\n",
    "df_tokenized_labeled_pd = df_tokenized_labeled_pd[['input_ids', 'attention_mask', 'label', 'ID_kp_distinct']]\n",
    "print(df_tokenized_labeled_pd.head())"
   ]
  },
  {
   "cell_type": "code",
   "execution_count": 55,
   "id": "1516e158-3859-432a-9c70-1ababf2255a1",
   "metadata": {},
   "outputs": [
    {
     "data": {
      "application/vnd.jupyter.widget-view+json": {
       "model_id": "be1624d13d604918a6859802904c3906",
       "version_major": 2,
       "version_minor": 0
      },
      "text/plain": [
       "Map:   0%|          | 0/118 [00:00<?, ? examples/s]"
      ]
     },
     "metadata": {},
     "output_type": "display_data"
    },
    {
     "name": "stdout",
     "output_type": "stream",
     "text": [
      "                                           input_ids  \\\n",
      "0  [101, 1045, 2018, 1037, 2210, 2978, 1997, 3255...   \n",
      "1  [101, 2061, 1045, 2018, 1996, 8030, 1997, 3255...   \n",
      "2  [101, 1045, 2109, 2000, 2202, 2146, 18996, 201...   \n",
      "3  [101, 1045, 2123, 1005, 1056, 2074, 2360, 2138...   \n",
      "4  [101, 2042, 2188, 2005, 1037, 2733, 1010, 1998...   \n",
      "\n",
      "                                      attention_mask label  ID_kp_distinct  \n",
      "0  [1, 1, 1, 1, 1, 1, 1, 1, 1, 1, 1, 1, 1, 1, 1, ...  None               0  \n",
      "1  [1, 1, 1, 1, 1, 1, 1, 1, 1, 1, 1, 1, 1, 1, 1, ...  None               2  \n",
      "2  [1, 1, 1, 1, 1, 1, 1, 1, 1, 1, 1, 1, 1, 1, 1, ...  None               4  \n",
      "3  [1, 1, 1, 1, 1, 1, 1, 1, 1, 1, 1, 1, 1, 1, 1, ...  None               5  \n",
      "4  [1, 1, 1, 1, 1, 1, 1, 1, 1, 1, 1, 1, 1, 1, 1, ...  None               6  \n"
     ]
    }
   ],
   "source": [
    "# Unlabeled\n",
    "df_tokenized_unlabeled = dataset_unlabeled.map(tokenize_fn, batched=True)\n",
    "df_tokenized_unlabeled_pd = df_tokenized_unlabeled.to_pandas()\n",
    "df_tokenized_unlabeled_pd['label'] = None\n",
    "\n",
    "df_tokenized_unlabeled_pd = df_tokenized_unlabeled_pd[['input_ids', 'attention_mask', 'label', 'ID_kp_distinct']]\n",
    "print(df_tokenized_unlabeled_pd.head())"
   ]
  },
  {
   "cell_type": "markdown",
   "id": "c68da8a8-1f3c-4cfd-9085-b18f428bd7f3",
   "metadata": {},
   "source": [
    "## Combined Dataset"
   ]
  },
  {
   "cell_type": "code",
   "execution_count": 56,
   "id": "235cdf0f-6627-4d0e-9b7a-fa7c899c8b68",
   "metadata": {},
   "outputs": [],
   "source": [
    "df_tokenized_combined_pd = pd.concat([df_tokenized_labeled_pd, df_tokenized_unlabeled_pd], ignore_index=True)"
   ]
  },
  {
   "cell_type": "code",
   "execution_count": 57,
   "id": "74af122a-421a-4d41-a515-3d64a1c2af60",
   "metadata": {},
   "outputs": [
    {
     "name": "stdout",
     "output_type": "stream",
     "text": [
      "<class 'pandas.core.frame.DataFrame'>\n",
      "RangeIndex: 139 entries, 0 to 138\n",
      "Data columns (total 4 columns):\n",
      " #   Column          Non-Null Count  Dtype \n",
      "---  ------          --------------  ----- \n",
      " 0   input_ids       139 non-null    object\n",
      " 1   attention_mask  139 non-null    object\n",
      " 2   label           21 non-null     object\n",
      " 3   ID_kp_distinct  139 non-null    int64 \n",
      "dtypes: int64(1), object(3)\n",
      "memory usage: 4.5+ KB\n"
     ]
    }
   ],
   "source": [
    "df_tokenized_combined_pd.info()"
   ]
  },
  {
   "cell_type": "markdown",
   "id": "5282ac6e-e577-4e7b-bb20-14fdb37f12cd",
   "metadata": {},
   "source": [
    "# Train-Test split"
   ]
  },
  {
   "cell_type": "code",
   "execution_count": 58,
   "id": "b5f61f1d-b45f-4e4b-b601-5aff2841f33b",
   "metadata": {},
   "outputs": [],
   "source": [
    "train_df, test_df = train_test_split(\n",
    "    df_tokenized_labeled_pd,\n",
    "    test_size=TEST_SIZE,\n",
    "    stratify=df_tokenized_labeled_pd['label'],\n",
    "    random_state=SEED\n",
    ")\n",
    "\n",
    "train_dataset = Dataset.from_pandas(train_df)\n",
    "test_dataset = Dataset.from_pandas(test_df)"
   ]
  },
  {
   "cell_type": "code",
   "execution_count": 59,
   "id": "59743b60-7c04-407b-be95-ab4198526233",
   "metadata": {},
   "outputs": [
    {
     "name": "stdout",
     "output_type": "stream",
     "text": [
      "12\n",
      "9\n"
     ]
    }
   ],
   "source": [
    "print(len(train_dataset))\n",
    "print(len(test_dataset))"
   ]
  },
  {
   "cell_type": "markdown",
   "id": "e28eb69b-350e-4be3-bdc3-98925c2afc23",
   "metadata": {},
   "source": [
    "# Unsupervised Learning"
   ]
  },
  {
   "cell_type": "markdown",
   "id": "53cb36c6-b219-4ac4-831c-7cfa1e918acc",
   "metadata": {},
   "source": [
    "## Make embeddings"
   ]
  },
  {
   "cell_type": "code",
   "execution_count": 60,
   "id": "41f9dbf8-9003-4f24-ab1c-9693e8d85693",
   "metadata": {},
   "outputs": [
    {
     "name": "stdout",
     "output_type": "stream",
     "text": [
      "130\n"
     ]
    }
   ],
   "source": [
    "df_tokenized_combined_pd_train = df_tokenized_combined_pd[\n",
    "    ~df_tokenized_combined_pd['ID_kp_distinct'].isin(test_df['ID_kp_distinct'])\n",
    "]\n",
    "\n",
    "print(len(df_tokenized_combined_pd_train)) # 128 - 8 = 120"
   ]
  },
  {
   "cell_type": "code",
   "execution_count": 61,
   "id": "f82f9009-7441-4eae-a409-4bebba78e199",
   "metadata": {},
   "outputs": [],
   "source": [
    "input_ids = torch.tensor(df_tokenized_combined_pd_train['input_ids'].tolist())\n",
    "attention_mask = torch.tensor(df_tokenized_combined_pd_train['attention_mask'].tolist())"
   ]
  },
  {
   "cell_type": "code",
   "execution_count": 62,
   "id": "d0845703-b3b1-402e-a3a8-03e6b1ecf38e",
   "metadata": {},
   "outputs": [],
   "source": [
    "model = AutoModel.from_pretrained(\"bert-base-uncased\")\n",
    "model.eval()\n",
    "\n",
    "with torch.no_grad():\n",
    "    outputs = model(input_ids=input_ids, attention_mask=attention_mask)\n",
    "    last_hidden_state = outputs.last_hidden_state\n",
    "    cls_embeddings = last_hidden_state[:, 0, :]"
   ]
  },
  {
   "cell_type": "markdown",
   "id": "671d1acc-8c78-4e7e-b3a9-62814d444640",
   "metadata": {},
   "source": [
    "## K-means"
   ]
  },
  {
   "cell_type": "code",
   "execution_count": 63,
   "id": "bd3388ce-fd8d-4176-a737-d2ee8a42473d",
   "metadata": {},
   "outputs": [
    {
     "data": {
      "image/png": "[encoded data removed]",
      "text/plain": [
       "<Figure size 800x400 with 1 Axes>"
      ]
     },
     "metadata": {},
     "output_type": "display_data"
    }
   ],
   "source": [
    "X = cls_embeddings.cpu().numpy()\n",
    "\n",
    "# Scale down with PCA\n",
    "scaler = StandardScaler()\n",
    "X_scaled = scaler.fit_transform(X)\n",
    "pca = PCA(n_components=50)\n",
    "X_pca = pca.fit_transform(X_scaled)\n",
    "\n",
    "inertia_values = []\n",
    "k_range = range(2, 10)\n",
    "\n",
    "# Iterate through the range of k values to compute inertia\n",
    "for k in k_range:\n",
    "    kmeans = KMeans(n_clusters=k, random_state=SEED)\n",
    "    kmeans.fit(X_pca)\n",
    "    inertia_values.append(kmeans.inertia_)\n",
    "\n",
    "# Plot the inertia values vs number of clusters\n",
    "plt.figure(figsize=(8, 4))\n",
    "plt.plot(k_range, inertia_values, marker='o', color='b')\n",
    "plt.xticks(k_range)\n",
    "plt.xlabel(\"Number of Clusters (k)\")\n",
    "plt.ylabel(\"Inertia\")\n",
    "plt.title(\"Elbow Method for Optimal k (Inertia)\")\n",
    "plt.grid(True)\n",
    "plt.show()"
   ]
  },
  {
   "cell_type": "code",
   "execution_count": 64,
   "id": "4021f43f-030f-4613-a9e6-0a8407b0b93d",
   "metadata": {},
   "outputs": [
    {
     "name": "stderr",
     "output_type": "stream",
     "text": [
      "C:\\Users\\Gebruiker\\AppData\\Local\\Temp\\ipykernel_45800\\1640148921.py:5: SettingWithCopyWarning: \n",
      "A value is trying to be set on a copy of a slice from a DataFrame.\n",
      "Try using .loc[row_indexer,col_indexer] = value instead\n",
      "\n",
      "See the caveats in the documentation: https://pandas.pydata.org/pandas-docs/stable/user_guide/indexing.html#returning-a-view-versus-a-copy\n",
      "  df_tokenized_combined_pd_train['cluster'] = cluster_labels\n"
     ]
    }
   ],
   "source": [
    "n_clusters = 2\n",
    "kmeans = KMeans(n_clusters=n_clusters, random_state=SEED)\n",
    "cluster_labels = kmeans.fit_predict(X_pca)\n",
    "\n",
    "df_tokenized_combined_pd_train['cluster'] = cluster_labels"
   ]
  },
  {
   "cell_type": "markdown",
   "id": "a39caa33-2055-4daa-9cf0-5b97b4910fc7",
   "metadata": {},
   "source": [
    "### Predict scores"
   ]
  },
  {
   "cell_type": "code",
   "execution_count": 65,
   "id": "f3324daa-f582-418d-9023-14bf3f8d3217",
   "metadata": {},
   "outputs": [
    {
     "data": {
      "text/html": [
       "<div>\n",
       "<style scoped>\n",
       "    .dataframe tbody tr th:only-of-type {\n",
       "        vertical-align: middle;\n",
       "    }\n",
       "\n",
       "    .dataframe tbody tr th {\n",
       "        vertical-align: top;\n",
       "    }\n",
       "\n",
       "    .dataframe thead th {\n",
       "        text-align: right;\n",
       "    }\n",
       "</style>\n",
       "<table border=\"1\" class=\"dataframe\">\n",
       "  <thead>\n",
       "    <tr style=\"text-align: right;\">\n",
       "      <th></th>\n",
       "      <th>input_ids</th>\n",
       "      <th>attention_mask</th>\n",
       "      <th>label</th>\n",
       "      <th>ID_kp_distinct</th>\n",
       "      <th>cluster</th>\n",
       "    </tr>\n",
       "  </thead>\n",
       "  <tbody>\n",
       "    <tr>\n",
       "      <th>0</th>\n",
       "      <td>[101, 2009, 2001, 2502, 1010, 2502, 13675, 251...</td>\n",
       "      <td>[1, 1, 1, 1, 1, 1, 1, 1, 1, 1, 1, 1, 1, 1, 1, ...</td>\n",
       "      <td>1</td>\n",
       "      <td>1</td>\n",
       "      <td>0</td>\n",
       "    </tr>\n",
       "    <tr>\n",
       "      <th>1</th>\n",
       "      <td>[101, 1031, 1012, 1012, 1012, 1033, 2061, 2002...</td>\n",
       "      <td>[1, 1, 1, 1, 1, 1, 1, 1, 1, 1, 1, 1, 1, 1, 1, ...</td>\n",
       "      <td>0</td>\n",
       "      <td>3</td>\n",
       "      <td>0</td>\n",
       "    </tr>\n",
       "    <tr>\n",
       "      <th>2</th>\n",
       "      <td>[101, 1045, 2253, 2000, 1037, 15034, 2320, 101...</td>\n",
       "      <td>[1, 1, 1, 1, 1, 1, 1, 1, 1, 1, 1, 1, 1, 1, 1, ...</td>\n",
       "      <td>1</td>\n",
       "      <td>10</td>\n",
       "      <td>1</td>\n",
       "    </tr>\n",
       "    <tr>\n",
       "      <th>3</th>\n",
       "      <td>[101, 1045, 2467, 2031, 2000, 2031, 1037, 1184...</td>\n",
       "      <td>[1, 1, 1, 1, 1, 1, 1, 1, 1, 1, 1, 1, 1, 1, 1, ...</td>\n",
       "      <td>0</td>\n",
       "      <td>11</td>\n",
       "      <td>1</td>\n",
       "    </tr>\n",
       "    <tr>\n",
       "      <th>4</th>\n",
       "      <td>[101, 1523, 1045, 2036, 2018, 5970, 1031, 1012...</td>\n",
       "      <td>[1, 1, 1, 1, 1, 1, 1, 1, 1, 1, 1, 1, 1, 1, 1, ...</td>\n",
       "      <td>0</td>\n",
       "      <td>25</td>\n",
       "      <td>0</td>\n",
       "    </tr>\n",
       "  </tbody>\n",
       "</table>\n",
       "</div>"
      ],
      "text/plain": [
       "                                           input_ids  \\\n",
       "0  [101, 2009, 2001, 2502, 1010, 2502, 13675, 251...   \n",
       "1  [101, 1031, 1012, 1012, 1012, 1033, 2061, 2002...   \n",
       "2  [101, 1045, 2253, 2000, 1037, 15034, 2320, 101...   \n",
       "3  [101, 1045, 2467, 2031, 2000, 2031, 1037, 1184...   \n",
       "4  [101, 1523, 1045, 2036, 2018, 5970, 1031, 1012...   \n",
       "\n",
       "                                      attention_mask label  ID_kp_distinct  \\\n",
       "0  [1, 1, 1, 1, 1, 1, 1, 1, 1, 1, 1, 1, 1, 1, 1, ...     1               1   \n",
       "1  [1, 1, 1, 1, 1, 1, 1, 1, 1, 1, 1, 1, 1, 1, 1, ...     0               3   \n",
       "2  [1, 1, 1, 1, 1, 1, 1, 1, 1, 1, 1, 1, 1, 1, 1, ...     1              10   \n",
       "3  [1, 1, 1, 1, 1, 1, 1, 1, 1, 1, 1, 1, 1, 1, 1, ...     0              11   \n",
       "4  [1, 1, 1, 1, 1, 1, 1, 1, 1, 1, 1, 1, 1, 1, 1, ...     0              25   \n",
       "\n",
       "   cluster  \n",
       "0        0  \n",
       "1        0  \n",
       "2        1  \n",
       "3        1  \n",
       "4        0  "
      ]
     },
     "execution_count": 65,
     "metadata": {},
     "output_type": "execute_result"
    }
   ],
   "source": [
    "df_tokenized_combined_pd_train.head()"
   ]
  },
  {
   "cell_type": "code",
   "execution_count": 66,
   "id": "cc4a1502-ee4a-49d9-9b05-a310f20c9f42",
   "metadata": {},
   "outputs": [
    {
     "name": "stdout",
     "output_type": "stream",
     "text": [
      "   0  1\n",
      "0  3  1\n",
      "1  3  5\n"
     ]
    }
   ],
   "source": [
    "cluster_label_counts = {}\n",
    "\n",
    "for _, row in df_tokenized_combined_pd_train.iterrows():\n",
    "    label = row['label']\n",
    "    cluster = row['cluster']\n",
    "    \n",
    "    if label is not None:\n",
    "        if cluster not in cluster_label_counts:\n",
    "            cluster_label_counts[cluster] = {0: 0, 1: 0}\n",
    "        \n",
    "        cluster_label_counts[cluster][label] += 1\n",
    "\n",
    "cluster_label_df = pd.DataFrame.from_dict(cluster_label_counts, orient='index')\n",
    "cluster_label_df = cluster_label_df.fillna(0).astype(int)\n",
    "\n",
    "# Display the results\n",
    "print(cluster_label_df)"
   ]
  },
  {
   "cell_type": "code",
   "execution_count": 67,
   "id": "b5a39358-014a-4b7e-b6d3-6387fa416bdb",
   "metadata": {},
   "outputs": [
    {
     "name": "stdout",
     "output_type": "stream",
     "text": [
      "                                            input_ids  \\\n",
      "7   [101, 1045, 1005, 2310, 4342, 1010, 1998, 2008...   \n",
      "6   [101, 2002, 2987, 1005, 1056, 2031, 2151, 3949...   \n",
      "11  [101, 2138, 1045, 2572, 5305, 1010, 2021, 2065...   \n",
      "16  [101, 2027, 4541, 2000, 2033, 1031, 1012, 1012...   \n",
      "15  [101, 2748, 1010, 2057, 2031, 2000, 2693, 2006...   \n",
      "10  [101, 2383, 4390, 4531, 2616, 1010, 2025, 2108...   \n",
      "8   [101, 2054, 1045, 2411, 5060, 2007, 7435, 2003...   \n",
      "5   [101, 1996, 1031, 2171, 6970, 2571, 14228, 207...   \n",
      "14  [101, 2941, 1010, 2026, 2567, 2001, 1996, 3114...   \n",
      "\n",
      "                                       attention_mask  label  ID_kp_distinct  \\\n",
      "7   [1, 1, 1, 1, 1, 1, 1, 1, 1, 1, 1, 1, 1, 1, 1, ...      0              31   \n",
      "6   [1, 1, 1, 1, 1, 1, 1, 1, 1, 1, 1, 1, 1, 1, 1, ...      1              30   \n",
      "11  [1, 1, 1, 1, 1, 1, 1, 1, 1, 1, 1, 1, 1, 1, 1, ...      0              94   \n",
      "16  [1, 1, 1, 1, 1, 1, 1, 1, 1, 1, 1, 1, 1, 1, 1, ...      1             127   \n",
      "15  [1, 1, 1, 1, 1, 1, 1, 1, 1, 1, 1, 1, 1, 1, 1, ...      0             121   \n",
      "10  [1, 1, 1, 1, 1, 1, 1, 1, 1, 1, 1, 1, 1, 1, 1, ...      1              78   \n",
      "8   [1, 1, 1, 1, 1, 1, 1, 1, 1, 1, 1, 1, 1, 1, 1, ...      1              38   \n",
      "5   [1, 1, 1, 1, 1, 1, 1, 1, 1, 1, 1, 1, 1, 1, 1, ...      0              26   \n",
      "14  [1, 1, 1, 1, 1, 1, 1, 1, 1, 1, 1, 1, 1, 1, 1, ...      0             116   \n",
      "\n",
      "    predicted_cluster  \n",
      "7                   0  \n",
      "6                   0  \n",
      "11                  1  \n",
      "16                  1  \n",
      "15                  1  \n",
      "10                  1  \n",
      "8                   0  \n",
      "5                   0  \n",
      "14                  1  \n"
     ]
    }
   ],
   "source": [
    "test_input_ids = torch.tensor(test_df['input_ids'].tolist())\n",
    "test_attention_mask = torch.tensor(test_df['attention_mask'].tolist())\n",
    "\n",
    "# Get CLS embeddings for test data\n",
    "model.eval()\n",
    "with torch.no_grad():\n",
    "    outputs_test = model(input_ids=test_input_ids, attention_mask=test_attention_mask)\n",
    "    last_hidden_state_test = outputs_test.last_hidden_state\n",
    "    cls_embeddings_test = last_hidden_state_test[:, 0, :]\n",
    "\n",
    "# Scale down with PCA\n",
    "X_test = cls_embeddings_test.cpu().numpy()\n",
    "X_test_scaled = scaler.transform(X_test)        # use same scaler\n",
    "X_test_pca = pca.transform(X_test_scaled)       # use same PCA\n",
    "\n",
    "# Predict clusters\n",
    "test_clusters = kmeans.predict(X_test_pca)\n",
    "\n",
    "# Assign cluster labels to test_df\n",
    "test_df = test_df.copy()  # to avoid SettingWithCopyWarning\n",
    "test_df['predicted_cluster'] = test_clusters\n",
    "print(test_df)"
   ]
  },
  {
   "cell_type": "markdown",
   "id": "87df52be-b525-4eb7-8314-100a9305758c",
   "metadata": {},
   "source": [
    "### Visualization"
   ]
  },
  {
   "cell_type": "code",
   "execution_count": 68,
   "id": "49ef21a0-94e5-42eb-afa6-35581b081b94",
   "metadata": {},
   "outputs": [],
   "source": [
    "tsne = TSNE(n_components=2, random_state=42, perplexity=15)\n",
    "embeddings_2d = tsne.fit_transform(cls_embeddings.cpu().numpy())"
   ]
  },
  {
   "cell_type": "code",
   "execution_count": 69,
   "id": "b75ede6b-c3dd-4e10-b6e9-7d92ce0a1a39",
   "metadata": {},
   "outputs": [
    {
     "data": {
      "image/png": "[encoded data removed]",
      "text/plain": [
       "<Figure size 800x600 with 2 Axes>"
      ]
     },
     "metadata": {},
     "output_type": "display_data"
    }
   ],
   "source": [
    "plt.figure(figsize=(8, 6))\n",
    "scatter = plt.scatter(\n",
    "    embeddings_2d[:, 0], embeddings_2d[:, 1],\n",
    "    c=df_tokenized_combined_pd_train['cluster'],\n",
    "    cmap='tab10',\n",
    "    s=50,\n",
    "    alpha=0.8\n",
    ")\n",
    "plt.colorbar(scatter, label='Cluster')\n",
    "plt.title('BERT Embedding Clusters')\n",
    "plt.xlabel('Dimension 1')\n",
    "plt.ylabel('Dimension 2')\n",
    "plt.grid(True)\n",
    "plt.show()"
   ]
  },
  {
   "cell_type": "markdown",
   "id": "6e15fa85-f17b-4067-8328-47d53db6bbee",
   "metadata": {},
   "source": [
    "## DBSCAN"
   ]
  },
  {
   "cell_type": "code",
   "execution_count": 70,
   "id": "145c2504-add4-4da4-a994-3951c0bfa7ec",
   "metadata": {},
   "outputs": [
    {
     "name": "stderr",
     "output_type": "stream",
     "text": [
      "C:\\Users\\Gebruiker\\AppData\\Local\\Temp\\ipykernel_45800\\1612896486.py:7: SettingWithCopyWarning: \n",
      "A value is trying to be set on a copy of a slice from a DataFrame.\n",
      "Try using .loc[row_indexer,col_indexer] = value instead\n",
      "\n",
      "See the caveats in the documentation: https://pandas.pydata.org/pandas-docs/stable/user_guide/indexing.html#returning-a-view-versus-a-copy\n",
      "  df_tokenized_combined_pd_train['cluster'] = cluster_labels\n"
     ]
    }
   ],
   "source": [
    "X = cls_embeddings.cpu().numpy()\n",
    "X_scaled = StandardScaler().fit_transform(X)\n",
    "\n",
    "dbscan = DBSCAN(eps=20, min_samples=2)  # You may need to tune eps and min_samples\n",
    "cluster_labels = dbscan.fit_predict(X_scaled)\n",
    "\n",
    "df_tokenized_combined_pd_train['cluster'] = cluster_labels"
   ]
  },
  {
   "cell_type": "markdown",
   "id": "bcddff59-b2ee-4caa-a6ce-dfb3acb2254b",
   "metadata": {},
   "source": [
    "### Predict scores"
   ]
  },
  {
   "cell_type": "markdown",
   "id": "84c479a2-0c46-455b-a3e5-b3e24a216654",
   "metadata": {},
   "source": [
    "We can't afford having noise assigned to our data..."
   ]
  },
  {
   "cell_type": "code",
   "execution_count": 71,
   "id": "d07ea326-c88f-49f4-b835-83077b6f2d51",
   "metadata": {},
   "outputs": [
    {
     "data": {
      "text/html": [
       "<div>\n",
       "<style scoped>\n",
       "    .dataframe tbody tr th:only-of-type {\n",
       "        vertical-align: middle;\n",
       "    }\n",
       "\n",
       "    .dataframe tbody tr th {\n",
       "        vertical-align: top;\n",
       "    }\n",
       "\n",
       "    .dataframe thead th {\n",
       "        text-align: right;\n",
       "    }\n",
       "</style>\n",
       "<table border=\"1\" class=\"dataframe\">\n",
       "  <thead>\n",
       "    <tr style=\"text-align: right;\">\n",
       "      <th></th>\n",
       "      <th>input_ids</th>\n",
       "      <th>attention_mask</th>\n",
       "      <th>label</th>\n",
       "      <th>ID_kp_distinct</th>\n",
       "      <th>cluster</th>\n",
       "    </tr>\n",
       "  </thead>\n",
       "  <tbody>\n",
       "    <tr>\n",
       "      <th>0</th>\n",
       "      <td>[101, 2009, 2001, 2502, 1010, 2502, 13675, 251...</td>\n",
       "      <td>[1, 1, 1, 1, 1, 1, 1, 1, 1, 1, 1, 1, 1, 1, 1, ...</td>\n",
       "      <td>1</td>\n",
       "      <td>1</td>\n",
       "      <td>-1</td>\n",
       "    </tr>\n",
       "    <tr>\n",
       "      <th>1</th>\n",
       "      <td>[101, 1031, 1012, 1012, 1012, 1033, 2061, 2002...</td>\n",
       "      <td>[1, 1, 1, 1, 1, 1, 1, 1, 1, 1, 1, 1, 1, 1, 1, ...</td>\n",
       "      <td>0</td>\n",
       "      <td>3</td>\n",
       "      <td>0</td>\n",
       "    </tr>\n",
       "    <tr>\n",
       "      <th>2</th>\n",
       "      <td>[101, 1045, 2253, 2000, 1037, 15034, 2320, 101...</td>\n",
       "      <td>[1, 1, 1, 1, 1, 1, 1, 1, 1, 1, 1, 1, 1, 1, 1, ...</td>\n",
       "      <td>1</td>\n",
       "      <td>10</td>\n",
       "      <td>-1</td>\n",
       "    </tr>\n",
       "    <tr>\n",
       "      <th>3</th>\n",
       "      <td>[101, 1045, 2467, 2031, 2000, 2031, 1037, 1184...</td>\n",
       "      <td>[1, 1, 1, 1, 1, 1, 1, 1, 1, 1, 1, 1, 1, 1, 1, ...</td>\n",
       "      <td>0</td>\n",
       "      <td>11</td>\n",
       "      <td>-1</td>\n",
       "    </tr>\n",
       "    <tr>\n",
       "      <th>4</th>\n",
       "      <td>[101, 1523, 1045, 2036, 2018, 5970, 1031, 1012...</td>\n",
       "      <td>[1, 1, 1, 1, 1, 1, 1, 1, 1, 1, 1, 1, 1, 1, 1, ...</td>\n",
       "      <td>0</td>\n",
       "      <td>25</td>\n",
       "      <td>-1</td>\n",
       "    </tr>\n",
       "    <tr>\n",
       "      <th>...</th>\n",
       "      <td>...</td>\n",
       "      <td>...</td>\n",
       "      <td>...</td>\n",
       "      <td>...</td>\n",
       "      <td>...</td>\n",
       "    </tr>\n",
       "    <tr>\n",
       "      <th>104</th>\n",
       "      <td>[101, 2008, 2026, 2166, 2085, 3294, 3431, 1010...</td>\n",
       "      <td>[1, 1, 1, 1, 1, 1, 1, 1, 1, 1, 1, 1, 1, 1, 1, ...</td>\n",
       "      <td>None</td>\n",
       "      <td>95</td>\n",
       "      <td>-1</td>\n",
       "    </tr>\n",
       "    <tr>\n",
       "      <th>105</th>\n",
       "      <td>[101, 1031, 1529, 1033, 1045, 2036, 5060, 2008...</td>\n",
       "      <td>[1, 1, 1, 1, 1, 1, 1, 1, 1, 1, 1, 1, 1, 1, 1, ...</td>\n",
       "      <td>None</td>\n",
       "      <td>96</td>\n",
       "      <td>-1</td>\n",
       "    </tr>\n",
       "    <tr>\n",
       "      <th>106</th>\n",
       "      <td>[101, 2057, 2024, 2200, 13072, 2043, 2057, 718...</td>\n",
       "      <td>[1, 1, 1, 1, 1, 1, 1, 1, 1, 1, 1, 1, 1, 1, 1, ...</td>\n",
       "      <td>None</td>\n",
       "      <td>97</td>\n",
       "      <td>-1</td>\n",
       "    </tr>\n",
       "    <tr>\n",
       "      <th>107</th>\n",
       "      <td>[101, 1045, 2228, 2008, 1005, 1055, 2200, 2590...</td>\n",
       "      <td>[1, 1, 1, 1, 1, 1, 1, 1, 1, 1, 1, 1, 1, 1, 1, ...</td>\n",
       "      <td>None</td>\n",
       "      <td>98</td>\n",
       "      <td>-1</td>\n",
       "    </tr>\n",
       "    <tr>\n",
       "      <th>108</th>\n",
       "      <td>[101, 2061, 1045, 2175, 4129, 2870, 1010, 2009...</td>\n",
       "      <td>[1, 1, 1, 1, 1, 1, 1, 1, 1, 1, 1, 1, 1, 1, 1, ...</td>\n",
       "      <td>None</td>\n",
       "      <td>99</td>\n",
       "      <td>-1</td>\n",
       "    </tr>\n",
       "  </tbody>\n",
       "</table>\n",
       "<p>100 rows × 5 columns</p>\n",
       "</div>"
      ],
      "text/plain": [
       "                                             input_ids  \\\n",
       "0    [101, 2009, 2001, 2502, 1010, 2502, 13675, 251...   \n",
       "1    [101, 1031, 1012, 1012, 1012, 1033, 2061, 2002...   \n",
       "2    [101, 1045, 2253, 2000, 1037, 15034, 2320, 101...   \n",
       "3    [101, 1045, 2467, 2031, 2000, 2031, 1037, 1184...   \n",
       "4    [101, 1523, 1045, 2036, 2018, 5970, 1031, 1012...   \n",
       "..                                                 ...   \n",
       "104  [101, 2008, 2026, 2166, 2085, 3294, 3431, 1010...   \n",
       "105  [101, 1031, 1529, 1033, 1045, 2036, 5060, 2008...   \n",
       "106  [101, 2057, 2024, 2200, 13072, 2043, 2057, 718...   \n",
       "107  [101, 1045, 2228, 2008, 1005, 1055, 2200, 2590...   \n",
       "108  [101, 2061, 1045, 2175, 4129, 2870, 1010, 2009...   \n",
       "\n",
       "                                        attention_mask label  ID_kp_distinct  \\\n",
       "0    [1, 1, 1, 1, 1, 1, 1, 1, 1, 1, 1, 1, 1, 1, 1, ...     1               1   \n",
       "1    [1, 1, 1, 1, 1, 1, 1, 1, 1, 1, 1, 1, 1, 1, 1, ...     0               3   \n",
       "2    [1, 1, 1, 1, 1, 1, 1, 1, 1, 1, 1, 1, 1, 1, 1, ...     1              10   \n",
       "3    [1, 1, 1, 1, 1, 1, 1, 1, 1, 1, 1, 1, 1, 1, 1, ...     0              11   \n",
       "4    [1, 1, 1, 1, 1, 1, 1, 1, 1, 1, 1, 1, 1, 1, 1, ...     0              25   \n",
       "..                                                 ...   ...             ...   \n",
       "104  [1, 1, 1, 1, 1, 1, 1, 1, 1, 1, 1, 1, 1, 1, 1, ...  None              95   \n",
       "105  [1, 1, 1, 1, 1, 1, 1, 1, 1, 1, 1, 1, 1, 1, 1, ...  None              96   \n",
       "106  [1, 1, 1, 1, 1, 1, 1, 1, 1, 1, 1, 1, 1, 1, 1, ...  None              97   \n",
       "107  [1, 1, 1, 1, 1, 1, 1, 1, 1, 1, 1, 1, 1, 1, 1, ...  None              98   \n",
       "108  [1, 1, 1, 1, 1, 1, 1, 1, 1, 1, 1, 1, 1, 1, 1, ...  None              99   \n",
       "\n",
       "     cluster  \n",
       "0         -1  \n",
       "1          0  \n",
       "2         -1  \n",
       "3         -1  \n",
       "4         -1  \n",
       "..       ...  \n",
       "104       -1  \n",
       "105       -1  \n",
       "106       -1  \n",
       "107       -1  \n",
       "108       -1  \n",
       "\n",
       "[100 rows x 5 columns]"
      ]
     },
     "execution_count": 71,
     "metadata": {},
     "output_type": "execute_result"
    }
   ],
   "source": [
    "df_tokenized_combined_pd_train[:100]"
   ]
  },
  {
   "cell_type": "code",
   "execution_count": 72,
   "id": "dd206b1e-7697-41b7-ae21-f968ab295819",
   "metadata": {},
   "outputs": [
    {
     "name": "stdout",
     "output_type": "stream",
     "text": [
      "    0  1\n",
      "-1  5  6\n",
      " 0  1  0\n"
     ]
    }
   ],
   "source": [
    "cluster_label_counts = {}\n",
    "\n",
    "for _, row in df_tokenized_combined_pd_train.iterrows():\n",
    "    label = row['label']\n",
    "    cluster = row['cluster']\n",
    "    \n",
    "    if label is not None:\n",
    "        if cluster not in cluster_label_counts:\n",
    "            cluster_label_counts[cluster] = {0: 0, 1: 0}\n",
    "        \n",
    "        cluster_label_counts[cluster][label] += 1\n",
    "\n",
    "cluster_label_df = pd.DataFrame.from_dict(cluster_label_counts, orient='index')\n",
    "cluster_label_df = cluster_label_df.fillna(0).astype(int)\n",
    "\n",
    "# Display the results\n",
    "print(cluster_label_df)"
   ]
  },
  {
   "cell_type": "markdown",
   "id": "d6a4ce03-c843-4582-b115-35e0cb45e723",
   "metadata": {},
   "source": [
    "# Supervised Learning"
   ]
  },
  {
   "cell_type": "markdown",
   "id": "08b26f80-c1bb-4434-9c0d-6414a82b9913",
   "metadata": {},
   "source": [
    "## Training"
   ]
  },
  {
   "cell_type": "code",
   "execution_count": 73,
   "id": "b414c706-5404-4916-b3fd-3e4de9101ce8",
   "metadata": {},
   "outputs": [],
   "source": [
    "training_args = TrainingArguments(\n",
    "    output_dir=\"./results/supervised_model\",\n",
    "    save_strategy=\"epoch\",\n",
    "    learning_rate=2e-5,\n",
    "    per_device_train_batch_size=8,\n",
    "    per_device_eval_batch_size=8,\n",
    "    num_train_epochs=5,\n",
    "    weight_decay=0.01,\n",
    "    logging_dir='./logs',\n",
    "    logging_steps=1,\n",
    "    fp16=True,\n",
    "    dataloader_num_workers=0,\n",
    "    gradient_accumulation_steps=2\n",
    ")"
   ]
  },
  {
   "cell_type": "code",
   "execution_count": 74,
   "id": "85d79fd2-eb10-4bf0-8436-3fd7a9af0017",
   "metadata": {},
   "outputs": [
    {
     "name": "stderr",
     "output_type": "stream",
     "text": [
      "Some weights of BertForSequenceClassification were not initialized from the model checkpoint at bert-base-uncased and are newly initialized: ['classifier.bias', 'classifier.weight']\n",
      "You should probably TRAIN this model on a down-stream task to be able to use it for predictions and inference.\n"
     ]
    }
   ],
   "source": [
    "trainer = Trainer(\n",
    "    model=get_model(),\n",
    "    args=training_args,\n",
    "    train_dataset=train_dataset\n",
    ")"
   ]
  },
  {
   "cell_type": "code",
   "execution_count": 75,
   "id": "7e104432-161b-4149-b7c7-337ee8991f0c",
   "metadata": {},
   "outputs": [
    {
     "data": {
      "text/html": [
       "\n",
       "    <div>\n",
       "      \n",
       "      <progress value='5' max='5' style='width:300px; height:20px; vertical-align: middle;'></progress>\n",
       "      [5/5 00:12, Epoch 5/5]\n",
       "    </div>\n",
       "    <table border=\"1\" class=\"dataframe\">\n",
       "  <thead>\n",
       " <tr style=\"text-align: left;\">\n",
       "      <th>Step</th>\n",
       "      <th>Training Loss</th>\n",
       "    </tr>\n",
       "  </thead>\n",
       "  <tbody>\n",
       "    <tr>\n",
       "      <td>1</td>\n",
       "      <td>0.685900</td>\n",
       "    </tr>\n",
       "    <tr>\n",
       "      <td>2</td>\n",
       "      <td>0.638300</td>\n",
       "    </tr>\n",
       "    <tr>\n",
       "      <td>3</td>\n",
       "      <td>0.642900</td>\n",
       "    </tr>\n",
       "    <tr>\n",
       "      <td>4</td>\n",
       "      <td>0.563200</td>\n",
       "    </tr>\n",
       "    <tr>\n",
       "      <td>5</td>\n",
       "      <td>0.576600</td>\n",
       "    </tr>\n",
       "  </tbody>\n",
       "</table><p>"
      ],
      "text/plain": [
       "<IPython.core.display.HTML object>"
      ]
     },
     "metadata": {},
     "output_type": "display_data"
    },
    {
     "data": {
      "text/plain": [
       "TrainOutput(global_step=5, training_loss=0.6213897705078125, metrics={'train_runtime': 13.0101, 'train_samples_per_second': 4.612, 'train_steps_per_second': 0.384, 'total_flos': 10945831014000.0, 'train_loss': 0.6213897705078125, 'epoch': 5.0})"
      ]
     },
     "execution_count": 75,
     "metadata": {},
     "output_type": "execute_result"
    }
   ],
   "source": [
    "trainer.train()"
   ]
  },
  {
   "cell_type": "markdown",
   "id": "f9ca0366-51f9-43ad-9779-d3e09066fd66",
   "metadata": {},
   "source": [
    "## Testing"
   ]
  },
  {
   "cell_type": "code",
   "execution_count": 76,
   "id": "844f5d4f-eb64-4950-b02a-b45071459168",
   "metadata": {},
   "outputs": [
    {
     "data": {
      "text/html": [],
      "text/plain": [
       "<IPython.core.display.HTML object>"
      ]
     },
     "metadata": {},
     "output_type": "display_data"
    },
    {
     "name": "stdout",
     "output_type": "stream",
     "text": [
      "[0 0 1 0 0 0 0 0 0]\n",
      "[0 1 0 1 0 1 1 0 0]\n"
     ]
    }
   ],
   "source": [
    "predictions = trainer.predict(test_dataset)\n",
    "\n",
    "predicted_logits = predictions.predictions\n",
    "true_labels = predictions.label_ids\n",
    "\n",
    "predicted_labels = np.argmax(predicted_logits, axis=-1)\n",
    "print(predicted_labels)\n",
    "print(true_labels)"
   ]
  },
  {
   "cell_type": "markdown",
   "id": "f5d07a6c-7aa1-45b8-a0ec-835f46e4a770",
   "metadata": {},
   "source": [
    "# Semi-Supervised Learning"
   ]
  },
  {
   "cell_type": "markdown",
   "id": "5041ecf0-68f4-49f2-8eac-214a0f284b91",
   "metadata": {},
   "source": [
    "## Training"
   ]
  },
  {
   "cell_type": "code",
   "execution_count": 77,
   "id": "76205e55-4eae-494e-a03c-fad62e0b9109",
   "metadata": {},
   "outputs": [],
   "source": [
    "training_args = TrainingArguments(\n",
    "    output_dir=\"./results/supervised_model\",\n",
    "    save_strategy=\"epoch\",\n",
    "    learning_rate=2e-5,\n",
    "    per_device_train_batch_size=8,\n",
    "    per_device_eval_batch_size=8,\n",
    "    num_train_epochs=1,\n",
    "    weight_decay=0.01,\n",
    "    logging_dir='./logs',\n",
    "    logging_steps=1,\n",
    "    fp16=True,\n",
    "    dataloader_num_workers=0,\n",
    "    gradient_accumulation_steps=2\n",
    ")"
   ]
  },
  {
   "cell_type": "code",
   "execution_count": 78,
   "id": "4c3ca323-57c5-4bf7-b4fc-8911752bee33",
   "metadata": {},
   "outputs": [
    {
     "name": "stderr",
     "output_type": "stream",
     "text": [
      "Some weights of BertForSequenceClassification were not initialized from the model checkpoint at bert-base-uncased and are newly initialized: ['classifier.bias', 'classifier.weight']\n",
      "You should probably TRAIN this model on a down-stream task to be able to use it for predictions and inference.\n"
     ]
    }
   ],
   "source": [
    "model_ss = get_model()"
   ]
  },
  {
   "cell_type": "code",
   "execution_count": 79,
   "id": "ee0f5d69-9da5-485e-a4ab-e530c21ac650",
   "metadata": {},
   "outputs": [],
   "source": [
    "def get_trainer(train_dataset=train_dataset):\n",
    "    trainer = Trainer(\n",
    "        model=model_ss,\n",
    "        args=training_args,\n",
    "        train_dataset=train_dataset\n",
    "    )\n",
    "    return trainer"
   ]
  },
  {
   "cell_type": "code",
   "execution_count": 80,
   "id": "4b7d47f7-c62d-45cb-8417-c9d03f12d386",
   "metadata": {
    "scrolled": true
   },
   "outputs": [
    {
     "name": "stdout",
     "output_type": "stream",
     "text": [
      "\n",
      "##################################################\n",
      "epoch: 1\n",
      "##################################################\n"
     ]
    },
    {
     "data": {
      "text/html": [
       "\n",
       "    <div>\n",
       "      \n",
       "      <progress value='1' max='1' style='width:300px; height:20px; vertical-align: middle;'></progress>\n",
       "      [1/1 00:02, Epoch 1/1]\n",
       "    </div>\n",
       "    <table border=\"1\" class=\"dataframe\">\n",
       "  <thead>\n",
       " <tr style=\"text-align: left;\">\n",
       "      <th>Step</th>\n",
       "      <th>Training Loss</th>\n",
       "    </tr>\n",
       "  </thead>\n",
       "  <tbody>\n",
       "    <tr>\n",
       "      <td>1</td>\n",
       "      <td>0.678300</td>\n",
       "    </tr>\n",
       "  </tbody>\n",
       "</table><p>"
      ],
      "text/plain": [
       "<IPython.core.display.HTML object>"
      ]
     },
     "metadata": {},
     "output_type": "display_data"
    },
    {
     "data": {
      "text/html": [],
      "text/plain": [
       "<IPython.core.display.HTML object>"
      ]
     },
     "metadata": {},
     "output_type": "display_data"
    },
    {
     "data": {
      "application/vnd.jupyter.widget-view+json": {
       "model_id": "662e448b085c40c1a1db908497efab7d",
       "version_major": 2,
       "version_minor": 0
      },
      "text/plain": [
       "Flattening the indices:   0%|          | 0/5 [00:00<?, ? examples/s]"
      ]
     },
     "metadata": {},
     "output_type": "display_data"
    },
    {
     "name": "stdout",
     "output_type": "stream",
     "text": [
      "\n",
      "##################################################\n",
      "epoch: 2\n",
      "##################################################\n"
     ]
    },
    {
     "data": {
      "text/html": [
       "\n",
       "    <div>\n",
       "      \n",
       "      <progress value='1' max='1' style='width:300px; height:20px; vertical-align: middle;'></progress>\n",
       "      [1/1 00:02, Epoch 0/1]\n",
       "    </div>\n",
       "    <table border=\"1\" class=\"dataframe\">\n",
       "  <thead>\n",
       " <tr style=\"text-align: left;\">\n",
       "      <th>Step</th>\n",
       "      <th>Training Loss</th>\n",
       "    </tr>\n",
       "  </thead>\n",
       "  <tbody>\n",
       "    <tr>\n",
       "      <td>1</td>\n",
       "      <td>0.645200</td>\n",
       "    </tr>\n",
       "  </tbody>\n",
       "</table><p>"
      ],
      "text/plain": [
       "<IPython.core.display.HTML object>"
      ]
     },
     "metadata": {},
     "output_type": "display_data"
    },
    {
     "data": {
      "text/html": [],
      "text/plain": [
       "<IPython.core.display.HTML object>"
      ]
     },
     "metadata": {},
     "output_type": "display_data"
    },
    {
     "data": {
      "application/vnd.jupyter.widget-view+json": {
       "model_id": "d0b0bb1bb6d9441c858336dc40cf967e",
       "version_major": 2,
       "version_minor": 0
      },
      "text/plain": [
       "Flattening the indices:   0%|          | 0/5 [00:00<?, ? examples/s]"
      ]
     },
     "metadata": {},
     "output_type": "display_data"
    },
    {
     "name": "stdout",
     "output_type": "stream",
     "text": [
      "\n",
      "##################################################\n",
      "epoch: 3\n",
      "##################################################\n"
     ]
    },
    {
     "data": {
      "text/html": [
       "\n",
       "    <div>\n",
       "      \n",
       "      <progress value='1' max='1' style='width:300px; height:20px; vertical-align: middle;'></progress>\n",
       "      [1/1 00:02, Epoch 0/1]\n",
       "    </div>\n",
       "    <table border=\"1\" class=\"dataframe\">\n",
       "  <thead>\n",
       " <tr style=\"text-align: left;\">\n",
       "      <th>Step</th>\n",
       "      <th>Training Loss</th>\n",
       "    </tr>\n",
       "  </thead>\n",
       "  <tbody>\n",
       "    <tr>\n",
       "      <td>1</td>\n",
       "      <td>0.545000</td>\n",
       "    </tr>\n",
       "  </tbody>\n",
       "</table><p>"
      ],
      "text/plain": [
       "<IPython.core.display.HTML object>"
      ]
     },
     "metadata": {},
     "output_type": "display_data"
    },
    {
     "data": {
      "text/html": [],
      "text/plain": [
       "<IPython.core.display.HTML object>"
      ]
     },
     "metadata": {},
     "output_type": "display_data"
    },
    {
     "data": {
      "application/vnd.jupyter.widget-view+json": {
       "model_id": "d622dd1e0d724f98a02c3e1875e6c380",
       "version_major": 2,
       "version_minor": 0
      },
      "text/plain": [
       "Flattening the indices:   0%|          | 0/5 [00:00<?, ? examples/s]"
      ]
     },
     "metadata": {},
     "output_type": "display_data"
    },
    {
     "name": "stdout",
     "output_type": "stream",
     "text": [
      "\n",
      "##################################################\n",
      "epoch: 4\n",
      "##################################################\n"
     ]
    },
    {
     "data": {
      "text/html": [
       "\n",
       "    <div>\n",
       "      \n",
       "      <progress value='1' max='1' style='width:300px; height:20px; vertical-align: middle;'></progress>\n",
       "      [1/1 00:02, Epoch 0/1]\n",
       "    </div>\n",
       "    <table border=\"1\" class=\"dataframe\">\n",
       "  <thead>\n",
       " <tr style=\"text-align: left;\">\n",
       "      <th>Step</th>\n",
       "      <th>Training Loss</th>\n",
       "    </tr>\n",
       "  </thead>\n",
       "  <tbody>\n",
       "    <tr>\n",
       "      <td>1</td>\n",
       "      <td>0.434200</td>\n",
       "    </tr>\n",
       "  </tbody>\n",
       "</table><p>"
      ],
      "text/plain": [
       "<IPython.core.display.HTML object>"
      ]
     },
     "metadata": {},
     "output_type": "display_data"
    },
    {
     "data": {
      "text/html": [],
      "text/plain": [
       "<IPython.core.display.HTML object>"
      ]
     },
     "metadata": {},
     "output_type": "display_data"
    },
    {
     "data": {
      "application/vnd.jupyter.widget-view+json": {
       "model_id": "0010d4931b5246ed9a420dce433e4838",
       "version_major": 2,
       "version_minor": 0
      },
      "text/plain": [
       "Flattening the indices:   0%|          | 0/5 [00:00<?, ? examples/s]"
      ]
     },
     "metadata": {},
     "output_type": "display_data"
    },
    {
     "name": "stdout",
     "output_type": "stream",
     "text": [
      "\n",
      "##################################################\n",
      "epoch: 5\n",
      "##################################################\n"
     ]
    },
    {
     "data": {
      "text/html": [
       "\n",
       "    <div>\n",
       "      \n",
       "      <progress value='1' max='1' style='width:300px; height:20px; vertical-align: middle;'></progress>\n",
       "      [1/1 00:02, Epoch 0/1]\n",
       "    </div>\n",
       "    <table border=\"1\" class=\"dataframe\">\n",
       "  <thead>\n",
       " <tr style=\"text-align: left;\">\n",
       "      <th>Step</th>\n",
       "      <th>Training Loss</th>\n",
       "    </tr>\n",
       "  </thead>\n",
       "  <tbody>\n",
       "    <tr>\n",
       "      <td>1</td>\n",
       "      <td>0.379100</td>\n",
       "    </tr>\n",
       "  </tbody>\n",
       "</table><p>"
      ],
      "text/plain": [
       "<IPython.core.display.HTML object>"
      ]
     },
     "metadata": {},
     "output_type": "display_data"
    },
    {
     "data": {
      "text/html": [],
      "text/plain": [
       "<IPython.core.display.HTML object>"
      ]
     },
     "metadata": {},
     "output_type": "display_data"
    },
    {
     "data": {
      "application/vnd.jupyter.widget-view+json": {
       "model_id": "b17d2455349645a199a21846f7cec265",
       "version_major": 2,
       "version_minor": 0
      },
      "text/plain": [
       "Flattening the indices:   0%|          | 0/5 [00:00<?, ? examples/s]"
      ]
     },
     "metadata": {},
     "output_type": "display_data"
    },
    {
     "name": "stdout",
     "output_type": "stream",
     "text": [
      "\n",
      "##################################################\n",
      "epoch: 6\n",
      "##################################################\n"
     ]
    },
    {
     "data": {
      "text/html": [
       "\n",
       "    <div>\n",
       "      \n",
       "      <progress value='1' max='1' style='width:300px; height:20px; vertical-align: middle;'></progress>\n",
       "      [1/1 00:02, Epoch 0/1]\n",
       "    </div>\n",
       "    <table border=\"1\" class=\"dataframe\">\n",
       "  <thead>\n",
       " <tr style=\"text-align: left;\">\n",
       "      <th>Step</th>\n",
       "      <th>Training Loss</th>\n",
       "    </tr>\n",
       "  </thead>\n",
       "  <tbody>\n",
       "    <tr>\n",
       "      <td>1</td>\n",
       "      <td>0.354100</td>\n",
       "    </tr>\n",
       "  </tbody>\n",
       "</table><p>"
      ],
      "text/plain": [
       "<IPython.core.display.HTML object>"
      ]
     },
     "metadata": {},
     "output_type": "display_data"
    },
    {
     "data": {
      "text/html": [],
      "text/plain": [
       "<IPython.core.display.HTML object>"
      ]
     },
     "metadata": {},
     "output_type": "display_data"
    },
    {
     "data": {
      "application/vnd.jupyter.widget-view+json": {
       "model_id": "ea662c84a6c641a8b5a1d345c44ff6dc",
       "version_major": 2,
       "version_minor": 0
      },
      "text/plain": [
       "Flattening the indices:   0%|          | 0/5 [00:00<?, ? examples/s]"
      ]
     },
     "metadata": {},
     "output_type": "display_data"
    },
    {
     "name": "stdout",
     "output_type": "stream",
     "text": [
      "\n",
      "##################################################\n",
      "epoch: 7\n",
      "##################################################\n"
     ]
    },
    {
     "data": {
      "text/html": [
       "\n",
       "    <div>\n",
       "      \n",
       "      <progress value='1' max='1' style='width:300px; height:20px; vertical-align: middle;'></progress>\n",
       "      [1/1 00:02, Epoch 0/1]\n",
       "    </div>\n",
       "    <table border=\"1\" class=\"dataframe\">\n",
       "  <thead>\n",
       " <tr style=\"text-align: left;\">\n",
       "      <th>Step</th>\n",
       "      <th>Training Loss</th>\n",
       "    </tr>\n",
       "  </thead>\n",
       "  <tbody>\n",
       "    <tr>\n",
       "      <td>1</td>\n",
       "      <td>0.304900</td>\n",
       "    </tr>\n",
       "  </tbody>\n",
       "</table><p>"
      ],
      "text/plain": [
       "<IPython.core.display.HTML object>"
      ]
     },
     "metadata": {},
     "output_type": "display_data"
    },
    {
     "data": {
      "text/html": [],
      "text/plain": [
       "<IPython.core.display.HTML object>"
      ]
     },
     "metadata": {},
     "output_type": "display_data"
    },
    {
     "data": {
      "application/vnd.jupyter.widget-view+json": {
       "model_id": "006bccb1fdd747c5833667aee5cb9f3f",
       "version_major": 2,
       "version_minor": 0
      },
      "text/plain": [
       "Flattening the indices:   0%|          | 0/5 [00:00<?, ? examples/s]"
      ]
     },
     "metadata": {},
     "output_type": "display_data"
    },
    {
     "name": "stdout",
     "output_type": "stream",
     "text": [
      "\n",
      "##################################################\n",
      "epoch: 8\n",
      "##################################################\n"
     ]
    },
    {
     "data": {
      "text/html": [
       "\n",
       "    <div>\n",
       "      \n",
       "      <progress value='1' max='1' style='width:300px; height:20px; vertical-align: middle;'></progress>\n",
       "      [1/1 00:02, Epoch 0/1]\n",
       "    </div>\n",
       "    <table border=\"1\" class=\"dataframe\">\n",
       "  <thead>\n",
       " <tr style=\"text-align: left;\">\n",
       "      <th>Step</th>\n",
       "      <th>Training Loss</th>\n",
       "    </tr>\n",
       "  </thead>\n",
       "  <tbody>\n",
       "    <tr>\n",
       "      <td>1</td>\n",
       "      <td>0.251500</td>\n",
       "    </tr>\n",
       "  </tbody>\n",
       "</table><p>"
      ],
      "text/plain": [
       "<IPython.core.display.HTML object>"
      ]
     },
     "metadata": {},
     "output_type": "display_data"
    },
    {
     "data": {
      "text/html": [],
      "text/plain": [
       "<IPython.core.display.HTML object>"
      ]
     },
     "metadata": {},
     "output_type": "display_data"
    },
    {
     "data": {
      "application/vnd.jupyter.widget-view+json": {
       "model_id": "a944d01a266f446293ccab5a2665eb22",
       "version_major": 2,
       "version_minor": 0
      },
      "text/plain": [
       "Flattening the indices:   0%|          | 0/5 [00:00<?, ? examples/s]"
      ]
     },
     "metadata": {},
     "output_type": "display_data"
    },
    {
     "name": "stdout",
     "output_type": "stream",
     "text": [
      "\n",
      "##################################################\n",
      "epoch: 9\n",
      "##################################################\n"
     ]
    },
    {
     "data": {
      "text/html": [
       "\n",
       "    <div>\n",
       "      \n",
       "      <progress value='1' max='1' style='width:300px; height:20px; vertical-align: middle;'></progress>\n",
       "      [1/1 00:02, Epoch 0/1]\n",
       "    </div>\n",
       "    <table border=\"1\" class=\"dataframe\">\n",
       "  <thead>\n",
       " <tr style=\"text-align: left;\">\n",
       "      <th>Step</th>\n",
       "      <th>Training Loss</th>\n",
       "    </tr>\n",
       "  </thead>\n",
       "  <tbody>\n",
       "    <tr>\n",
       "      <td>1</td>\n",
       "      <td>0.222500</td>\n",
       "    </tr>\n",
       "  </tbody>\n",
       "</table><p>"
      ],
      "text/plain": [
       "<IPython.core.display.HTML object>"
      ]
     },
     "metadata": {},
     "output_type": "display_data"
    },
    {
     "data": {
      "text/html": [],
      "text/plain": [
       "<IPython.core.display.HTML object>"
      ]
     },
     "metadata": {},
     "output_type": "display_data"
    },
    {
     "data": {
      "application/vnd.jupyter.widget-view+json": {
       "model_id": "02c5a1133c784cb9ab28eadfd5f151c0",
       "version_major": 2,
       "version_minor": 0
      },
      "text/plain": [
       "Flattening the indices:   0%|          | 0/5 [00:00<?, ? examples/s]"
      ]
     },
     "metadata": {},
     "output_type": "display_data"
    },
    {
     "name": "stdout",
     "output_type": "stream",
     "text": [
      "\n",
      "##################################################\n",
      "epoch: 10\n",
      "##################################################\n"
     ]
    },
    {
     "data": {
      "text/html": [
       "\n",
       "    <div>\n",
       "      \n",
       "      <progress value='1' max='1' style='width:300px; height:20px; vertical-align: middle;'></progress>\n",
       "      [1/1 00:02, Epoch 0/1]\n",
       "    </div>\n",
       "    <table border=\"1\" class=\"dataframe\">\n",
       "  <thead>\n",
       " <tr style=\"text-align: left;\">\n",
       "      <th>Step</th>\n",
       "      <th>Training Loss</th>\n",
       "    </tr>\n",
       "  </thead>\n",
       "  <tbody>\n",
       "    <tr>\n",
       "      <td>1</td>\n",
       "      <td>0.198600</td>\n",
       "    </tr>\n",
       "  </tbody>\n",
       "</table><p>"
      ],
      "text/plain": [
       "<IPython.core.display.HTML object>"
      ]
     },
     "metadata": {},
     "output_type": "display_data"
    },
    {
     "data": {
      "text/html": [],
      "text/plain": [
       "<IPython.core.display.HTML object>"
      ]
     },
     "metadata": {},
     "output_type": "display_data"
    },
    {
     "data": {
      "application/vnd.jupyter.widget-view+json": {
       "model_id": "9b3715f5866d41ecbbd8d8c693803279",
       "version_major": 2,
       "version_minor": 0
      },
      "text/plain": [
       "Flattening the indices:   0%|          | 0/5 [00:00<?, ? examples/s]"
      ]
     },
     "metadata": {},
     "output_type": "display_data"
    }
   ],
   "source": [
    "k_fold_size = 5  # number of training examples per epoch\n",
    "val_size = 2     # number of validation examples per fold\n",
    "early_stopping_patience = 5\n",
    "num_epochs = 50\n",
    "\n",
    "best_val_loss = float('inf')\n",
    "epochs_without_improvement = 0\n",
    "\n",
    "for epoch in range(num_epochs):\n",
    "    print(\"\\n##################################################\")\n",
    "    print(f\"epoch: {epoch+1}\")\n",
    "    print(\"##################################################\")\n",
    "\n",
    "    if not isinstance(pseudo_dataset, pd.DataFrame):\n",
    "        pseudo_dataset = pseudo_dataset.to_pandas()\n",
    "\n",
    "    train_df_shuffled = train_df.sample(frac=1, random_state=SEED+epoch).reset_index(drop=True)\n",
    "    train_df_subset = train_df_shuffled.iloc[:k_fold_size]\n",
    "    val_df_subset = train_df_shuffled.iloc[k_fold_size:k_fold_size + val_size]\n",
    "\n",
    "    train_set_df = pd.concat([train_df_subset, pseudo_dataset], ignore_index=True)\n",
    "    train_set_df = train_set_df.sample(frac=1, random_state=SEED).reset_index(drop=True)\n",
    "    train_set = Dataset.from_pandas(train_set_df)\n",
    "    val_set = Dataset.from_pandas(val_df_subset)\n",
    "\n",
    "    trainer = get_trainer(train_dataset=train_set, eval_dataset=val_set)\n",
    "    trainer.train()\n",
    "\n",
    "    eval_results = trainer.evaluate()\n",
    "    val_loss = eval_results[\"eval_loss\"]\n",
    "    print(f\"Validation Loss: {val_loss:.4f}\")\n",
    "\n",
    "    # Early stopping logic\n",
    "    if val_loss < best_val_loss:\n",
    "        best_val_loss = val_loss\n",
    "        epochs_without_improvement = 0\n",
    "    else:\n",
    "        epochs_without_improvement += 1\n",
    "        print(f\"No improvement for {epochs_without_improvement} epoch(s).\")\n",
    "\n",
    "    if epochs_without_improvement >= early_stopping_patience:\n",
    "        print(f\"Early stopping triggered after {epoch+1} epochs.\")\n",
    "        break\n",
    "\n",
    "    # Predict on new batch\n",
    "    batch = Dataset.from_pandas(df_tokenized_unlabeled_pd)\n",
    "    sampled_batch = batch.shuffle(seed=SEED+epoch).select(range(3))\n",
    "    logits = trainer.predict(sampled_batch).predictions\n",
    "    preds = np.argmax(logits, axis=1)\n",
    "\n",
    "    pseudo_dataset = sampled_batch.remove_columns('label')\n",
    "    pseudo_dataset = pseudo_dataset.add_column('label', preds)"
   ]
  },
  {
   "cell_type": "markdown",
   "id": "8039b91b-e844-4cce-bf2c-7bb3e2d980e6",
   "metadata": {},
   "source": [
    "## Testing"
   ]
  },
  {
   "cell_type": "code",
   "execution_count": 81,
   "id": "4c604175-a132-41c4-8315-130da6516ee4",
   "metadata": {},
   "outputs": [
    {
     "data": {
      "text/html": [],
      "text/plain": [
       "<IPython.core.display.HTML object>"
      ]
     },
     "metadata": {},
     "output_type": "display_data"
    },
    {
     "name": "stdout",
     "output_type": "stream",
     "text": [
      "[1 1 1 1 1 1 1 1 1]\n",
      "[0 1 0 1 0 1 1 0 0]\n"
     ]
    }
   ],
   "source": [
    "predictions = trainer.predict(test_dataset)\n",
    "\n",
    "predicted_logits = predictions.predictions\n",
    "true_labels = predictions.label_ids\n",
    "\n",
    "predicted_labels = np.argmax(predicted_logits, axis=-1)\n",
    "print(predicted_labels)\n",
    "print(true_labels)"
   ]
  },
  {
   "cell_type": "markdown",
   "id": "b705e998-0a02-4e11-9ae2-e424fa655cae",
   "metadata": {},
   "source": [
    "# Simulating CI (Clopper-Pearson)"
   ]
  },
  {
   "cell_type": "code",
   "execution_count": 82,
   "id": "2f16d4af-8576-4bcf-84fa-806c388cce0f",
   "metadata": {},
   "outputs": [
    {
     "name": "stdout",
     "output_type": "stream",
     "text": [
      "95% CI: [63.06%, 100.00%]\n"
     ]
    }
   ],
   "source": [
    "k = 8     # correct predictions\n",
    "n = 8      # total predictions\n",
    "\n",
    "ci_low, ci_high = proportion_confint(k, n, alpha=0.05, method=\"beta\")\n",
    "print(f\"95% CI: [{ci_low:.2%}, {ci_high:.2%}]\")"
   ]
  },
  {
   "cell_type": "code",
   "execution_count": null,
   "id": "0a9eea0c-e48e-4589-8fd4-52a6d00d8856",
   "metadata": {},
   "outputs": [],
   "source": []
  },
  {
   "cell_type": "code",
   "execution_count": null,
   "id": "2a0bb9eb-1645-45f3-9f27-6f8a495fc4b6",
   "metadata": {},
   "outputs": [],
   "source": []
  },
  {
   "cell_type": "code",
   "execution_count": null,
   "id": "662ff08d-099f-4bb3-a4c1-b98a33c9aa7a",
   "metadata": {},
   "outputs": [],
   "source": []
  }
 ],
 "metadata": {
  "kernelspec": {
   "display_name": "env_thesis_39",
   "language": "python",
   "name": "env_thesis_39"
  },
  "language_info": {
   "codemirror_mode": {
    "name": "ipython",
    "version": 3
   },
   "file_extension": ".py",
   "mimetype": "text/x-python",
   "name": "python",
   "nbconvert_exporter": "python",
   "pygments_lexer": "ipython3",
   "version": "3.9.13"
  }
 },
 "nbformat": 4,
 "nbformat_minor": 5
}
