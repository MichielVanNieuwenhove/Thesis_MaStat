{
 "cells": [
  {
   "cell_type": "code",
   "execution_count": 3,
   "id": "e181ba35-1b97-4087-bd56-eab2bf405523",
   "metadata": {},
   "outputs": [],
   "source": [
    "# Libs\n",
    "import pandas as pd\n",
    "import random\n",
    "from sentence_transformers import SentenceTransformer, util"
   ]
  },
  {
   "cell_type": "code",
   "execution_count": 4,
   "id": "ae39297f-dcc2-42fd-a483-de4381a997f2",
   "metadata": {},
   "outputs": [],
   "source": [
    "# General\n",
    "SEED = 42\n",
    "random.seed(SEED)"
   ]
  },
  {
   "cell_type": "markdown",
   "id": "16f76eb0-3f0c-443d-b541-6a0d9efa6f8a",
   "metadata": {},
   "source": [
    "# Loading Data"
   ]
  },
  {
   "cell_type": "code",
   "execution_count": 5,
   "id": "3387b49f-0e0e-4736-971c-53110ee15561",
   "metadata": {},
   "outputs": [
    {
     "name": "stdout",
     "output_type": "stream",
     "text": [
      "                                         Sequela Name  \\\n",
      "0   HIV/AIDS -  Drug-susceptible Tuberculosis with...   \n",
      "12                     Symptomatic HIV without anemia   \n",
      "13                                AIDS without anemia   \n",
      "14                           Early HIV without anemia   \n",
      "24  HIV/AIDS with antiretroviral treatment without...   \n",
      "\n",
      "                                    Health State Name  \\\n",
      "0                          Tuberculosis, HIV infected   \n",
      "12                   HIV cases, symptomatic, pre-AIDS   \n",
      "13            AIDS cases, not receiving ARV treatment   \n",
      "14  Generic uncomplicated disease: anxiety about d...   \n",
      "24            HIV/AIDS cases, receiving ARV treatment   \n",
      "\n",
      "                         Health State Lay Description      Mean     Lower  \\\n",
      "0   has a persistent cough and fever, shortness of...  0.408459  0.273579   \n",
      "12  has weight loss, fatigue, and frequent infecti...  0.274479  0.184359   \n",
      "13  has severe weight loss, weakness, fatigue, cou...  0.581590  0.405544   \n",
      "14  has a disease diagnosis that causes some worry...  0.012441  0.006195   \n",
      "24  has occasional fevers and infections. the pers...  0.078017  0.052124   \n",
      "\n",
      "       Upper  \n",
      "0   0.549465  \n",
      "12  0.377096  \n",
      "13  0.742606  \n",
      "14  0.022709  \n",
      "24  0.111067  \n"
     ]
    }
   ],
   "source": [
    "df_dw = pd.read_feather(\"../Data/DW/df_dw_filtered.feather\")\n",
    "print(df_dw.head())"
   ]
  },
  {
   "cell_type": "code",
   "execution_count": 6,
   "id": "1141e74b-e2e7-44bb-ba4f-3289f98f6538",
   "metadata": {},
   "outputs": [
    {
     "name": "stdout",
     "output_type": "stream",
     "text": [
      "   ID_dta        fDISEASE fDIMENSION fDOMAIN          fCRITERION fINDICATOR  \\\n",
      "0       1  Crohns Disease   Patients  Health  Impact on autonomy   Mobility   \n",
      "1       2  Crohns Disease   Patients  Health  Impact on autonomy   Mobility   \n",
      "2       3  Crohns Disease   Patients  Health  Impact on autonomy   Mobility   \n",
      "3       4  Crohns Disease   Patients  Health  Impact on autonomy  Self-care   \n",
      "4       5  Crohns Disease   Patients  Health  Impact on autonomy  Self-care   \n",
      "\n",
      "  fDISEASE_SUBTYPE fDISEASE_PROXY fCOUNTRY_PROXY    YEAR  ... VALUE_char  SD  \\\n",
      "0              NaN            NaN            NaN  2023.0  ...       None NaN   \n",
      "1              NaN            NaN            NaN  2023.0  ...       None NaN   \n",
      "2              NaN            NaN            NaN  2023.0  ...       None NaN   \n",
      "3              NaN            NaN            NaN  2023.0  ...       None NaN   \n",
      "4              NaN            NaN            NaN  2023.0  ...       None NaN   \n",
      "\n",
      "  LOWER CI UPPER CI       SOURCE KEY_POINT  QUOTES  META_1  META_2 COMMENTS  \n",
      "0      NaN      NaN  NEED survey      None    None    None    None     None  \n",
      "1      NaN      NaN  NEED survey      None    None    None    None     None  \n",
      "2      NaN      NaN  NEED survey      None    None    None    None     None  \n",
      "3      NaN      NaN  NEED survey      None    None    None    None     None  \n",
      "4      NaN      NaN  NEED survey      None    None    None    None     None  \n",
      "\n",
      "[5 rows x 25 columns]\n"
     ]
    }
   ],
   "source": [
    "df_dta = pd.read_feather('../Data/Cleaned/df_dta_cleaned.feather')\n",
    "print(df_dta.head())"
   ]
  },
  {
   "cell_type": "markdown",
   "id": "fbf54b4b-3919-4583-b3ad-7423cfeca3f8",
   "metadata": {},
   "source": [
    "# Transforming Data"
   ]
  },
  {
   "cell_type": "code",
   "execution_count": 7,
   "id": "42b535fc-3676-4ac7-8e6a-3305d3ce6746",
   "metadata": {},
   "outputs": [
    {
     "name": "stderr",
     "output_type": "stream",
     "text": [
      "C:\\Users\\Gebruiker\\AppData\\Local\\Temp\\ipykernel_22944\\1106502321.py:1: FutureWarning: The behavior of Series.replace (and DataFrame.replace) with CategoricalDtype is deprecated. In a future version, replace will only be used for cases that preserve the categories. To change the categories, use ser.cat.rename_categories instead.\n",
      "  df_dta['fINDICATOR'] = df_dta['fINDICATOR'].replace(\n"
     ]
    }
   ],
   "source": [
    "df_dta['fINDICATOR'] = df_dta['fINDICATOR'].replace(\n",
    "    'Experienced burden of psychological symptoms related to the health issue',\n",
    "    'Experienced burden of psychological symptoms'\n",
    ")\n",
    "\n",
    "df_dta_disabilities = df_dta[\n",
    "    df_dta['fINDICATOR'].isin([\n",
    "        'Experienced burden of physical symptoms',\n",
    "        'Experienced burden of psychological symptoms'\n",
    "    ])\n",
    "]"
   ]
  },
  {
   "cell_type": "code",
   "execution_count": 8,
   "id": "7a7de821-9135-4e93-9429-28e72332c41e",
   "metadata": {},
   "outputs": [
    {
     "name": "stdout",
     "output_type": "stream",
     "text": [
      "21                                             Anal pain\n",
      "22                     Blood loss during bowel movements\n",
      "23                                          Constipation\n",
      "24                             Continuous abdominal pain\n",
      "25                                                Cramps\n",
      "26                                             Diarrhoea\n",
      "27                               Difficult wound healing\n",
      "28                    Dry, painful or itchy skin or rash\n",
      "29                         Elevated temperature or fever\n",
      "30                                 Fatigue or exhaustion\n",
      "31                                              Headache\n",
      "32                            Joint pain or inflammation\n",
      "33                                        Lack of energy\n",
      "34                                      Loss of appetite\n",
      "35                                    Nausea or vomiting\n",
      "36         Pain in the mouth due to, for example, ulcers\n",
      "37                                 Urgency or stool urge\n",
      "38                           Vision problems or eye pain\n",
      "39                                           Weight gain\n",
      "40                                           Weight loss\n",
      "47                               Anger or aggressiveness\n",
      "48                           Difficulty in concentrating\n",
      "49                                       Fear or anxiety\n",
      "50                   Feeling down, depressed, or sadness\n",
      "51     Feelings of restlessness, nervousness or irrit...\n",
      "52                                       Libido problems\n",
      "53                                           Mood swings\n",
      "54                                                Stress\n",
      "97                                Breathing difficulties\n",
      "98                                            Chest pain\n",
      "99                                 Concentration problem\n",
      "100                            Difficulty/loss of memory\n",
      "101                                              Fatigue\n",
      "102                                             Headache\n",
      "103                                           Joint pain\n",
      "104                                       Loss of energy\n",
      "105                                        Lost of smell\n",
      "106                                        Lost of taste\n",
      "107                             Muscle pain and weakness\n",
      "114                                         Fear/anxiety\n",
      "115                                             Insomnia\n",
      "140                                Fatigue or exhaustion\n",
      "141                                        Painful wound\n",
      "142                        Swollen or painful lymph node\n",
      "149                                      Fear or anxiety\n",
      "150                                    Feeling abandoned\n",
      "151                      Feeling down, depressed, or sad\n",
      "152                                             Insomnia\n",
      "153                         Irritability or restlessness\n",
      "154                                               Stress\n",
      "Name: CATEGORIES, dtype: object\n"
     ]
    }
   ],
   "source": [
    "print(df_dta_disabilities['CATEGORIES'])"
   ]
  },
  {
   "cell_type": "markdown",
   "id": "eb50c13c-f41a-468a-b87a-f0316124280f",
   "metadata": {},
   "source": [
    "# Disability Matching"
   ]
  },
  {
   "cell_type": "code",
   "execution_count": 9,
   "id": "527c544d-0006-4e1d-9861-775f7ea5ae2f",
   "metadata": {},
   "outputs": [
    {
     "data": {
      "application/vnd.jupyter.widget-view+json": {
       "model_id": "ed9b8378a85240e7a3261e2fe72fdc03",
       "version_major": 2,
       "version_minor": 0
      },
      "text/plain": [
       "Downloading .gitattributes:   0%|          | 0.00/1.23k [00:00<?, ?B/s]"
      ]
     },
     "metadata": {},
     "output_type": "display_data"
    },
    {
     "data": {
      "application/vnd.jupyter.widget-view+json": {
       "model_id": "1cf9f9d42b9a409688235549dff5885e",
       "version_major": 2,
       "version_minor": 0
      },
      "text/plain": [
       "Downloading config.json:   0%|          | 0.00/190 [00:00<?, ?B/s]"
      ]
     },
     "metadata": {},
     "output_type": "display_data"
    },
    {
     "data": {
      "application/vnd.jupyter.widget-view+json": {
       "model_id": "f3d33a8bf5a64956aecbfcddeb76cf21",
       "version_major": 2,
       "version_minor": 0
      },
      "text/plain": [
       "Downloading README.md:   0%|          | 0.00/10.5k [00:00<?, ?B/s]"
      ]
     },
     "metadata": {},
     "output_type": "display_data"
    },
    {
     "data": {
      "application/vnd.jupyter.widget-view+json": {
       "model_id": "c821e69ab53e408da87ffcdaefff69e3",
       "version_major": 2,
       "version_minor": 0
      },
      "text/plain": [
       "Downloading config.json:   0%|          | 0.00/612 [00:00<?, ?B/s]"
      ]
     },
     "metadata": {},
     "output_type": "display_data"
    },
    {
     "data": {
      "application/vnd.jupyter.widget-view+json": {
       "model_id": "71bad4882eaa48f39be675310dcea184",
       "version_major": 2,
       "version_minor": 0
      },
      "text/plain": [
       "Downloading (…)ce_transformers.json:   0%|          | 0.00/116 [00:00<?, ?B/s]"
      ]
     },
     "metadata": {},
     "output_type": "display_data"
    },
    {
     "data": {
      "application/vnd.jupyter.widget-view+json": {
       "model_id": "a6deb6aeb46545fe9b2344f3b277b2bb",
       "version_major": 2,
       "version_minor": 0
      },
      "text/plain": [
       "Downloading data_config.json:   0%|          | 0.00/39.3k [00:00<?, ?B/s]"
      ]
     },
     "metadata": {},
     "output_type": "display_data"
    },
    {
     "data": {
      "application/vnd.jupyter.widget-view+json": {
       "model_id": "82936846740d45a0a8613a86580db83d",
       "version_major": 2,
       "version_minor": 0
      },
      "text/plain": [
       "Downloading model.safetensors:   0%|          | 0.00/90.9M [00:00<?, ?B/s]"
      ]
     },
     "metadata": {},
     "output_type": "display_data"
    },
    {
     "data": {
      "application/vnd.jupyter.widget-view+json": {
       "model_id": "7659dc9e7c7c48c68a81f7e74e13727c",
       "version_major": 2,
       "version_minor": 0
      },
      "text/plain": [
       "Downloading model.onnx:   0%|          | 0.00/90.4M [00:00<?, ?B/s]"
      ]
     },
     "metadata": {},
     "output_type": "display_data"
    },
    {
     "data": {
      "application/vnd.jupyter.widget-view+json": {
       "model_id": "c19a698b8d914dc0bbbc303498c7033a",
       "version_major": 2,
       "version_minor": 0
      },
      "text/plain": [
       "Downloading model_O1.onnx:   0%|          | 0.00/90.4M [00:00<?, ?B/s]"
      ]
     },
     "metadata": {},
     "output_type": "display_data"
    },
    {
     "data": {
      "application/vnd.jupyter.widget-view+json": {
       "model_id": "d7e0e2d2f9334f348f995aa14f8f540b",
       "version_major": 2,
       "version_minor": 0
      },
      "text/plain": [
       "Downloading model_O2.onnx:   0%|          | 0.00/90.3M [00:00<?, ?B/s]"
      ]
     },
     "metadata": {},
     "output_type": "display_data"
    },
    {
     "data": {
      "application/vnd.jupyter.widget-view+json": {
       "model_id": "a4a58c47de59475ba2b623f4044f11bd",
       "version_major": 2,
       "version_minor": 0
      },
      "text/plain": [
       "Downloading model_O3.onnx:   0%|          | 0.00/90.3M [00:00<?, ?B/s]"
      ]
     },
     "metadata": {},
     "output_type": "display_data"
    },
    {
     "data": {
      "application/vnd.jupyter.widget-view+json": {
       "model_id": "e862e23f8f604e608e3556acf2d0fd69",
       "version_major": 2,
       "version_minor": 0
      },
      "text/plain": [
       "Downloading model_O4.onnx:   0%|          | 0.00/45.2M [00:00<?, ?B/s]"
      ]
     },
     "metadata": {},
     "output_type": "display_data"
    },
    {
     "data": {
      "application/vnd.jupyter.widget-view+json": {
       "model_id": "56d3a6a505cc4902a4326b9e07565e33",
       "version_major": 2,
       "version_minor": 0
      },
      "text/plain": [
       "Downloading model_qint8_arm64.onnx:   0%|          | 0.00/23.0M [00:00<?, ?B/s]"
      ]
     },
     "metadata": {},
     "output_type": "display_data"
    },
    {
     "data": {
      "application/vnd.jupyter.widget-view+json": {
       "model_id": "aceac4551a3146f9a439ad4b140f8aa9",
       "version_major": 2,
       "version_minor": 0
      },
      "text/plain": [
       "Downloading model_qint8_arm64.onnx:   0%|          | 0.00/23.0M [00:00<?, ?B/s]"
      ]
     },
     "metadata": {},
     "output_type": "display_data"
    },
    {
     "data": {
      "application/vnd.jupyter.widget-view+json": {
       "model_id": "61128bde50ef493b80aab136b006eee5",
       "version_major": 2,
       "version_minor": 0
      },
      "text/plain": [
       "Downloading model_qint8_arm64.onnx:   0%|          | 0.00/23.0M [00:00<?, ?B/s]"
      ]
     },
     "metadata": {},
     "output_type": "display_data"
    },
    {
     "data": {
      "application/vnd.jupyter.widget-view+json": {
       "model_id": "59721f40b00c43cdb1077d12247eec9b",
       "version_major": 2,
       "version_minor": 0
      },
      "text/plain": [
       "Downloading model_quint8_avx2.onnx:   0%|          | 0.00/23.0M [00:00<?, ?B/s]"
      ]
     },
     "metadata": {},
     "output_type": "display_data"
    },
    {
     "data": {
      "application/vnd.jupyter.widget-view+json": {
       "model_id": "bc14bcca0df1469e994b5cdf17fec50b",
       "version_major": 2,
       "version_minor": 0
      },
      "text/plain": [
       "Downloading openvino_model.bin:   0%|          | 0.00/90.3M [00:00<?, ?B/s]"
      ]
     },
     "metadata": {},
     "output_type": "display_data"
    },
    {
     "data": {
      "application/vnd.jupyter.widget-view+json": {
       "model_id": "7156eb71a96b48048e8338d3ab7ddac2",
       "version_major": 2,
       "version_minor": 0
      },
      "text/plain": [
       "Downloading openvino_model.xml:   0%|          | 0.00/211k [00:00<?, ?B/s]"
      ]
     },
     "metadata": {},
     "output_type": "display_data"
    },
    {
     "data": {
      "application/vnd.jupyter.widget-view+json": {
       "model_id": "9332c468dfe3475386eb9fd1754d36d4",
       "version_major": 2,
       "version_minor": 0
      },
      "text/plain": [
       "Downloading (…)_qint8_quantized.bin:   0%|          | 0.00/22.9M [00:00<?, ?B/s]"
      ]
     },
     "metadata": {},
     "output_type": "display_data"
    },
    {
     "data": {
      "application/vnd.jupyter.widget-view+json": {
       "model_id": "e2f77306439e4e50bef15fce0dd72ea6",
       "version_major": 2,
       "version_minor": 0
      },
      "text/plain": [
       "Downloading (…)_qint8_quantized.xml:   0%|          | 0.00/368k [00:00<?, ?B/s]"
      ]
     },
     "metadata": {},
     "output_type": "display_data"
    },
    {
     "data": {
      "application/vnd.jupyter.widget-view+json": {
       "model_id": "dfaa9f2753d241a9b4d556f5e584946a",
       "version_major": 2,
       "version_minor": 0
      },
      "text/plain": [
       "Downloading pytorch_model.bin:   0%|          | 0.00/90.9M [00:00<?, ?B/s]"
      ]
     },
     "metadata": {},
     "output_type": "display_data"
    },
    {
     "data": {
      "application/vnd.jupyter.widget-view+json": {
       "model_id": "88b4b72e74b9468b92a6ebbcf972d209",
       "version_major": 2,
       "version_minor": 0
      },
      "text/plain": [
       "Downloading (…)nce_bert_config.json:   0%|          | 0.00/53.0 [00:00<?, ?B/s]"
      ]
     },
     "metadata": {},
     "output_type": "display_data"
    },
    {
     "data": {
      "application/vnd.jupyter.widget-view+json": {
       "model_id": "8d5e1ca1f5ab45dcb78ae2bd401a3cb3",
       "version_major": 2,
       "version_minor": 0
      },
      "text/plain": [
       "Downloading (…)cial_tokens_map.json:   0%|          | 0.00/112 [00:00<?, ?B/s]"
      ]
     },
     "metadata": {},
     "output_type": "display_data"
    },
    {
     "data": {
      "application/vnd.jupyter.widget-view+json": {
       "model_id": "ac46e6a193a04b40889b2644cbc50eb5",
       "version_major": 2,
       "version_minor": 0
      },
      "text/plain": [
       "Downloading tokenizer.json:   0%|          | 0.00/466k [00:00<?, ?B/s]"
      ]
     },
     "metadata": {},
     "output_type": "display_data"
    },
    {
     "data": {
      "application/vnd.jupyter.widget-view+json": {
       "model_id": "f21159f2f6024161aaf309743a8a9698",
       "version_major": 2,
       "version_minor": 0
      },
      "text/plain": [
       "Downloading tokenizer_config.json:   0%|          | 0.00/350 [00:00<?, ?B/s]"
      ]
     },
     "metadata": {},
     "output_type": "display_data"
    },
    {
     "data": {
      "application/vnd.jupyter.widget-view+json": {
       "model_id": "6b642923924b45d9b94cd0c3769f6bad",
       "version_major": 2,
       "version_minor": 0
      },
      "text/plain": [
       "Downloading train_script.py:   0%|          | 0.00/13.2k [00:00<?, ?B/s]"
      ]
     },
     "metadata": {},
     "output_type": "display_data"
    },
    {
     "data": {
      "application/vnd.jupyter.widget-view+json": {
       "model_id": "8cef554e4a244f04bb0169f27fbeb903",
       "version_major": 2,
       "version_minor": 0
      },
      "text/plain": [
       "Downloading vocab.txt:   0%|          | 0.00/232k [00:00<?, ?B/s]"
      ]
     },
     "metadata": {},
     "output_type": "display_data"
    },
    {
     "data": {
      "application/vnd.jupyter.widget-view+json": {
       "model_id": "077f658e2c0d4bc185dd8b30144dbc95",
       "version_major": 2,
       "version_minor": 0
      },
      "text/plain": [
       "Downloading modules.json:   0%|          | 0.00/349 [00:00<?, ?B/s]"
      ]
     },
     "metadata": {},
     "output_type": "display_data"
    }
   ],
   "source": [
    "model = SentenceTransformer('all-MiniLM-L6-v2')"
   ]
  },
  {
   "cell_type": "markdown",
   "id": "1fb0766d-c647-4991-b1f4-64aa4e8c11c1",
   "metadata": {},
   "source": [
    "## Testing"
   ]
  },
  {
   "cell_type": "code",
   "execution_count": 10,
   "id": "455d9f23-40a9-4140-8c8d-b68060108275",
   "metadata": {},
   "outputs": [
    {
     "name": "stdout",
     "output_type": "stream",
     "text": [
      "Top matches:\n",
      "Elevated temperature or fever: 0.506\n",
      "Fatigue or exhaustion: 0.392\n",
      "Dry, painful or itchy skin or rash: 0.389\n",
      "Diarrhoea: 0.325\n",
      "Blood loss during bowel movements: 0.277\n"
     ]
    }
   ],
   "source": [
    "input_text = \"has a persistent cough and fever, shortness of breath, night sweats, weakness and fatigue and severe weight loss.\"\n",
    "\n",
    "# Your disability labels (simplified example, expand with your full list)\n",
    "disability_labels = [\n",
    "    \"Anal pain\",\n",
    "    \"Blood loss during bowel movements\",\n",
    "    \"Constipation\",\n",
    "    \"Continuous abdominal pain\",\n",
    "    \"Cramps\",\n",
    "    \"Diarrhoea\",\n",
    "    \"Difficult wound healing\",\n",
    "    \"Dry, painful or itchy skin or rash\",\n",
    "    \"Elevated temperature or fever\",\n",
    "    \"Fatigue or exhaustion\"\n",
    "]\n",
    "\n",
    "# Encode\n",
    "input_embedding = model.encode(input_text, convert_to_tensor=True)\n",
    "label_embeddings = model.encode(disability_labels, convert_to_tensor=True)\n",
    "\n",
    "# Compute cosine similarity\n",
    "cosine_scores = util.cos_sim(input_embedding, label_embeddings)[0]\n",
    "\n",
    "# Display top matches\n",
    "results = sorted(zip(disability_labels, cosine_scores.tolist()), key=lambda x: x[1], reverse=True)\n",
    "\n",
    "print(\"Top matches:\")\n",
    "for label, score in results[:5]:\n",
    "    print(f\"{label}: {score:.3f}\")"
   ]
  },
  {
   "cell_type": "code",
   "execution_count": 12,
   "id": "1b9575de-d378-4e42-b73e-9c3d61f9ae47",
   "metadata": {
    "scrolled": true
   },
   "outputs": [
    {
     "name": "stdout",
     "output_type": "stream",
     "text": [
      "\n",
      "🔹 Category: Anal pain\n",
      "   Best Match: has an abnormal opening between her vagina and rectum causing flatulence and feces to escape through the vagina. the person gets infections in her vagina, and has pain when urinating. \n",
      "   Similarity Score: 0.4544\n",
      "\n",
      "🔹 Category: Blood loss during bowel movements\n",
      "   Best Match: has diarrhea three or more times a day, with painful cramps in the belly and feeling thirsty\n",
      "   Similarity Score: 0.4303\n",
      "\n",
      "🔹 Category: Constipation\n",
      "   Best Match: has pain in the belly and feels nauseous. the person has difficulties with daily activities. \n",
      "   Similarity Score: 0.5125\n",
      "\n",
      "🔹 Category: Continuous abdominal pain\n",
      "   Best Match: has cramping pain and a bloated feeling in the belly.\n",
      "   Similarity Score: 0.6255\n",
      "\n",
      "🔹 Category: Cramps\n",
      "   Best Match: has cramping pain and a bloated feeling in the belly.\n",
      "   Similarity Score: 0.6125\n",
      "\n",
      "🔹 Category: Diarrhoea\n",
      "   Best Match: has occasional fevers and infections. the person takes daily medication that sometimes causes diarrhea.\n",
      "   Similarity Score: 0.5969\n",
      "\n",
      "🔹 Category: Difficult wound healing\n",
      "   Best Match: has a blistering skin rash that causes pain, with some burning and itching.\n",
      "   Similarity Score: 0.3276\n",
      "\n",
      "🔹 Category: Dry, painful or itchy skin or rash\n",
      "   Best Match: has a blistering skin rash that causes pain, with some burning and itching.\n",
      "   Similarity Score: 0.6522\n",
      "\n",
      "🔹 Category: Elevated temperature or fever\n",
      "   Best Match: has a high fever and pain, and feels very weak, which causes great difficulty with daily activities.\n",
      "   Similarity Score: 0.5692\n",
      "\n",
      "🔹 Category: Fatigue or exhaustion\n",
      "   Best Match: sometimes feels tired and down, and has some difficulty with daily activities.\n",
      "   Similarity Score: 0.6389\n",
      "\n",
      "🔹 Category: Headache\n",
      "   Best Match: has daily headaches, felt as dull pain and often lasting all day, with poor sleep, nausea and fatigue. the person takes medicine for the headaches, which provides little relief but is needed to avoid having worse symptoms.\n",
      "   Similarity Score: 0.6350\n",
      "\n",
      "🔹 Category: Joint pain or inflammation\n",
      "   Best Match: has severe, constant pain and deformity in most joints, causing difficulty moving around, getting up and down, eating, dressing, lifting, carrying and using the hands. the person often feels sadness, anxiety and extreme fatigue.\n",
      "   Similarity Score: 0.6022\n",
      "\n",
      "🔹 Category: Lack of energy\n",
      "   Best Match: has low energy and feels cold.\n",
      "   Similarity Score: 0.6019\n",
      "\n",
      "🔹 Category: Loss of appetite\n",
      "   Best Match: has uncontrolled overeating followed by guilt, starving, and vomiting to lose weight.\n",
      "   Similarity Score: 0.6452\n",
      "\n",
      "🔹 Category: Nausea or vomiting\n",
      "   Best Match: vomits blood and feels nauseous.\n",
      "   Similarity Score: 0.7879\n",
      "\n",
      "🔹 Category: Pain in the mouth due to, for example, ulcers\n",
      "   Best Match: has minor bleeding of the gums from time to time, with mild discomfort.\n",
      "   Similarity Score: 0.5223\n",
      "\n",
      "🔹 Category: Urgency or stool urge\n",
      "   Best Match: feels the urge to urinate frequently, but when passing urine it comes out slowly and sometimes is painful.\n",
      "   Similarity Score: 0.4589\n",
      "\n",
      "🔹 Category: Vision problems or eye pain\n",
      "   Best Match: has severe vision loss, which causes difficulty in daily activities, some emotional impact (for example worry), and some difficulty going outside the home without assistance.\n",
      "   Similarity Score: 0.6671\n",
      "\n",
      "🔹 Category: Weight gain\n",
      "   Best Match: is extremely skinny and has no energy. \n",
      "   Similarity Score: 0.4343\n",
      "\n",
      "🔹 Category: Weight loss\n",
      "   Best Match: feels an overwhelming need to starve and exercises excessively to lose weight. the person is very thin, weak and anxious.\n",
      "   Similarity Score: 0.5546\n",
      "\n",
      "🔹 Category: Anger or aggressiveness\n",
      "   Best Match: has frequent behavior problems, which are sometimes violent. the person often has difficulty interacting with other people and feels irritable.\n",
      "   Similarity Score: 0.5466\n",
      "\n",
      "🔹 Category: Difficulty in concentrating\n",
      "   Best Match: is hyperactive and has difficulty concentrating, remembering things, and completing tasks. \n",
      "   Similarity Score: 0.5964\n",
      "\n",
      "🔹 Category: Fear or anxiety\n",
      "   Best Match: feels anxious and worried, which makes it difficult to concentrate, remember things, and sleep. the person tires easily and finds it difficult to perform daily activities.\n",
      "   Similarity Score: 0.5487\n",
      "\n",
      "🔹 Category: Feeling down, depressed, or sadness\n",
      "   Best Match: feels persistent sadness and has lost interest in usual activities. the person sometimes sleeps badly, feels tired, or has trouble concentrating but still manages to function in daily life with extra effort.\n",
      "   Similarity Score: 0.5694\n",
      "\n",
      "🔹 Category: Feelings of restlessness, nervousness or irritability\n",
      "   Best Match: feels mildly anxious and worried, which makes it slightly difficult to concentrate, remember things, and sleep. the person tires easily but is able to perform daily activities.\n",
      "   Similarity Score: 0.6481\n",
      "\n",
      "🔹 Category: Libido problems\n",
      "   Best Match: has difficulty in obtaining or maintaining an erection.\n",
      "   Similarity Score: 0.5707\n",
      "\n",
      "🔹 Category: Mood swings\n",
      "   Best Match: has mild mood swings, irritability and some difficulty with daily activities. \n",
      "   Similarity Score: 0.6521\n",
      "\n",
      "🔹 Category: Stress\n",
      "   Best Match: feels anxious and worried, which makes it difficult to concentrate, remember things, and sleep. the person tires easily and finds it difficult to perform daily activities.\n",
      "   Similarity Score: 0.4778\n",
      "\n",
      "🔹 Category: Breathing difficulties\n",
      "   Best Match: feels very weak, tired and short of breath, and has problems with activities that require physical effort or deep concentration.\n",
      "   Similarity Score: 0.6254\n",
      "\n",
      "🔹 Category: Chest pain\n",
      "   Best Match: has chest pain that occurs with strenuous physical activity, such as running or lifting heavy objects. after a brief rest, the pain goes away.\n",
      "   Similarity Score: 0.7911\n",
      "\n",
      "🔹 Category: Concentration problem\n",
      "   Best Match: drinks a lot of alcohol and sometimes has difficulty controlling the urge to drink. while intoxicated, the person has difficulty performing daily activities.\n",
      "   Similarity Score: 0.1705\n",
      "\n",
      "🔹 Category: Difficulty/loss of memory\n",
      "   Best Match: has complete memory loss; no longer recognizes close family members; and requires help with all daily activities.\n",
      "   Similarity Score: 0.5838\n",
      "\n",
      "🔹 Category: Fatigue\n",
      "   Best Match: sometimes feels tired and down, and has some difficulty with daily activities.\n",
      "   Similarity Score: 0.5917\n",
      "\n",
      "🔹 Category: Joint pain\n",
      "   Best Match: has severe, constant pain and deformity in most joints, causing difficulty moving around, getting up and down, eating, dressing, lifting, carrying and using the hands. the person often feels sadness, anxiety and extreme fatigue.\n",
      "   Similarity Score: 0.6479\n",
      "\n",
      "🔹 Category: Loss of energy\n",
      "   Best Match: has low energy and feels cold.\n",
      "   Similarity Score: 0.4009\n",
      "\n",
      "🔹 Category: Lost of smell\n",
      "   Best Match: has complete memory loss; no longer recognizes close family members; and requires help with all daily activities.\n",
      "   Similarity Score: 0.2992\n",
      "\n",
      "🔹 Category: Lost of taste\n",
      "   Best Match: has lost more than 20 teeth including front and back, and has great difficulty in eating meat, fruits, and vegetables.\n",
      "   Similarity Score: 0.3054\n",
      "\n",
      "🔹 Category: Muscle pain and weakness\n",
      "   Best Match: has moderate pain and stiffness in the arms and hands, which causes difficulty lifting, carrying, and holding things, and trouble sleeping because of the pain.\n",
      "   Similarity Score: 0.5685\n",
      "\n",
      "🔹 Category: Fear/anxiety\n",
      "   Best Match: feels anxious and worried, which makes it difficult to concentrate, remember things, and sleep. the person tires easily and finds it difficult to perform daily activities.\n",
      "   Similarity Score: 0.5902\n",
      "\n",
      "🔹 Category: Insomnia\n",
      "   Best Match: is very ill and often asleep or unconscious; when awake cannot move in bed, cannot speak, is completely dependent on others and is anxious\n",
      "   Similarity Score: 0.4844\n",
      "\n",
      "🔹 Category: Painful wound\n",
      "   Best Match: has a blistering skin rash that causes pain, with some burning and itching.\n",
      "   Similarity Score: 0.5129\n",
      "\n",
      "🔹 Category: Swollen or painful lymph node\n",
      "   Best Match: has a swollen belly and swollen legs. the person feels weakness, fatigue and loss of appetite.\n",
      "   Similarity Score: 0.5118\n",
      "\n",
      "🔹 Category: Feeling abandoned\n",
      "   Best Match: feels persistent sadness and has lost interest in usual activities. the person sometimes sleeps badly, feels tired, or has trouble concentrating but still manages to function in daily life with extra effort.\n",
      "   Similarity Score: 0.4761\n",
      "\n",
      "🔹 Category: Feeling down, depressed, or sad\n",
      "   Best Match: feels persistent sadness and has lost interest in usual activities. the person sometimes sleeps badly, feels tired, or has trouble concentrating but still manages to function in daily life with extra effort.\n",
      "   Similarity Score: 0.5643\n",
      "\n",
      "🔹 Category: Irritability or restlessness\n",
      "   Best Match: has mild mood swings, irritability and some difficulty with daily activities. \n",
      "   Similarity Score: 0.6324\n"
     ]
    }
   ],
   "source": [
    "categories = df_dta_disabilities['CATEGORIES'].unique()\n",
    "texts = df_dw['Health State Lay Description'].tolist()\n",
    "text_embeddings = model.encode(texts, convert_to_tensor=True)\n",
    "\n",
    "# Loop through each category\n",
    "for category in categories:\n",
    "    # Encode the category\n",
    "    category_embedding = model.encode(category, convert_to_tensor=True)\n",
    "    \n",
    "    # Compute cosine similarities\n",
    "    cosine_scores = util.cos_sim(category_embedding, text_embeddings)[0]\n",
    "    best_idx = cosine_scores.argmax().item()\n",
    "    \n",
    "    print(f\"\\n🔹 Category: {category}\")\n",
    "    print(f\"   Best Match: {texts[best_idx]}\")\n",
    "    print(f\"   Similarity Score: {cosine_scores[best_idx].item():.4f}\")\n"
   ]
  },
  {
   "cell_type": "markdown",
   "id": "ba5e5c05-45d8-492d-b8d5-e78aa2c51c68",
   "metadata": {},
   "source": [
    "## Map all disabilities to a row in the GBD data"
   ]
  },
  {
   "cell_type": "code",
   "execution_count": null,
   "id": "4e326c84-5895-4a33-a7e6-0e5344ae1c7a",
   "metadata": {},
   "outputs": [],
   "source": []
  },
  {
   "cell_type": "code",
   "execution_count": null,
   "id": "ffd8400f-0ea4-4acd-8483-d61e3c55f35d",
   "metadata": {},
   "outputs": [],
   "source": []
  },
  {
   "cell_type": "code",
   "execution_count": null,
   "id": "32d46173-376f-4082-b652-e25660bc36b1",
   "metadata": {},
   "outputs": [],
   "source": []
  }
 ],
 "metadata": {
  "kernelspec": {
   "display_name": "env_thesis_39",
   "language": "python",
   "name": "env_thesis_39"
  },
  "language_info": {
   "codemirror_mode": {
    "name": "ipython",
    "version": 3
   },
   "file_extension": ".py",
   "mimetype": "text/x-python",
   "name": "python",
   "nbconvert_exporter": "python",
   "pygments_lexer": "ipython3",
   "version": "3.9.13"
  }
 },
 "nbformat": 4,
 "nbformat_minor": 5
}
