{
 "cells": [
  {
   "cell_type": "code",
   "execution_count": 1,
   "id": "0e0906f2-7f0c-41f2-a831-0e25de72cc70",
   "metadata": {},
   "outputs": [],
   "source": [
    "# Libs\n",
    "import pandas as pd\n",
    "import random"
   ]
  },
  {
   "cell_type": "code",
   "execution_count": null,
   "id": "a7807de9-1b3f-4bea-81ed-99a71d7dc2f9",
   "metadata": {},
   "outputs": [],
   "source": [
    "# General\n",
    "SEED = 42\n",
    "random.seed(SEED)"
   ]
  },
  {
   "cell_type": "markdown",
   "id": "a9368195-b1d1-43c8-a408-9ff77d7440bb",
   "metadata": {},
   "source": [
    "# Loading Data"
   ]
  },
  {
   "cell_type": "code",
   "execution_count": null,
   "id": "06ef5203-2522-48b2-8155-28377b15d729",
   "metadata": {},
   "outputs": [],
   "source": [
    "df = pd.read_feather(\"../Data/Cleaned/df_dta_kp_cleaned.feather\")\n",
    "\n",
    "print(df['KEY_POINT'].head())"
   ]
  },
  {
   "cell_type": "code",
   "execution_count": null,
   "id": "aaf24f15-9a67-443a-b04a-af5848ffb0b6",
   "metadata": {},
   "outputs": [],
   "source": [
    "df_valid = df.dropna(subset=['KEY_POINT'])\n",
    "keypoints = df_valid['KEY_POINT'].tolist()\n",
    "\n",
    "print(keypoints[:5])\n",
    "print(\"\\n\")\n",
    "print(\"amount of keypoints:\", len(keypoints))"
   ]
  },
  {
   "cell_type": "code",
   "execution_count": null,
   "id": "e5aaeed2-7995-4240-bbf6-efe820da16f1",
   "metadata": {},
   "outputs": [],
   "source": [
    "keypoints = [kp for kp in keypoints if kp != \"\"]"
   ]
  },
  {
   "cell_type": "code",
   "execution_count": null,
   "id": "c883e5cf-482a-42da-aecb-49a5303dba67",
   "metadata": {},
   "outputs": [],
   "source": [
    "import random\n",
    "\n",
    "random.shuffle(keypoints)\n",
    "print(keypoints[:5])"
   ]
  },
  {
   "cell_type": "code",
   "execution_count": null,
   "id": "d15c9078-9f36-4a25-b784-a9462bb43cff",
   "metadata": {},
   "outputs": [],
   "source": [
    "amount_of_pairs = 20\n",
    "\n",
    "unique_keypoints = list(set(keypoints))\n",
    "selected_keypoints = unique_keypoints[:(amount_of_pairs+1)]\n",
    "pairs = [(selected_keypoints[i], selected_keypoints[i + 1]) for i in range(0, len(selected_keypoints) - 1)]\n",
    "random.shuffle(pairs)\n",
    "\n",
    "for i, (kp1, kp2) in enumerate(pairs):\n",
    "    print(f\"Question {i+1}:\")\n",
    "    print(kp1)\n",
    "    print(kp2)\n",
    "    print(\"\\n\")\n"
   ]
  },
  {
   "cell_type": "code",
   "execution_count": null,
   "id": "f6482de4-ce3e-4992-8d56-b150ebaa0d67",
   "metadata": {},
   "outputs": [],
   "source": []
  },
  {
   "cell_type": "code",
   "execution_count": null,
   "id": "95deba17-9311-4622-86ec-eed84025ca34",
   "metadata": {},
   "outputs": [],
   "source": []
  },
  {
   "cell_type": "code",
   "execution_count": null,
   "id": "7ac1f84f-929f-446c-a059-ca3d9f2a9cc8",
   "metadata": {},
   "outputs": [],
   "source": []
  },
  {
   "cell_type": "code",
   "execution_count": null,
   "id": "6142a573-8c10-4335-9bf8-460d86a27e75",
   "metadata": {},
   "outputs": [],
   "source": []
  }
 ],
 "metadata": {
  "kernelspec": {
   "display_name": "env_thesis",
   "language": "python",
   "name": "env_thesis"
  },
  "language_info": {
   "codemirror_mode": {
    "name": "ipython",
    "version": 3
   },
   "file_extension": ".py",
   "mimetype": "text/x-python",
   "name": "python",
   "nbconvert_exporter": "python",
   "pygments_lexer": "ipython3",
   "version": "3.13.2"
  }
 },
 "nbformat": 4,
 "nbformat_minor": 5
}
