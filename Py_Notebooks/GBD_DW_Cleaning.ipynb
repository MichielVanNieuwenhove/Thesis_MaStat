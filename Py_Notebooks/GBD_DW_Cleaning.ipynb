{
 "cells": [
  {
   "cell_type": "code",
   "execution_count": 74,
   "id": "a44c34fd-60cf-4002-875b-eff80334d4d1",
   "metadata": {},
   "outputs": [],
   "source": [
    "# Libs\n",
    "import pandas as pd\n",
    "import random\n",
    "import re"
   ]
  },
  {
   "cell_type": "markdown",
   "id": "d56abe10-8c20-466c-9d5d-1893fe57537d",
   "metadata": {},
   "source": [
    "# Data Loading"
   ]
  },
  {
   "cell_type": "code",
   "execution_count": 61,
   "id": "1114625f-4689-4fb1-8eff-686e6510754a",
   "metadata": {},
   "outputs": [
    {
     "name": "stdout",
     "output_type": "stream",
     "text": [
      "                                        Sequela Name  \\\n",
      "0  HIV/AIDS -  Drug-susceptible Tuberculosis with...   \n",
      "1  HIV/AIDS -  Drug-susceptible Tuberculosis with...   \n",
      "2  HIV/AIDS -  Drug-susceptible Tuberculosis with...   \n",
      "3  HIV/AIDS -  Drug-susceptible Tuberculosis with...   \n",
      "4  HIV/AIDS - Multidrug-resistant Tuberculosis wi...   \n",
      "\n",
      "                                 Health State Name  \\\n",
      "0                       Tuberculosis, HIV infected   \n",
      "1      Tuberculosis, HIV infected and anemia, mild   \n",
      "2  Tuberculosis, HIV infected and anemia, moderate   \n",
      "3    Tuberculosis, HIV infected and anemia, severe   \n",
      "4                       Tuberculosis, HIV infected   \n",
      "\n",
      "                        Health State Lay Description      Mean     Lower  \\\n",
      "0  has a persistent cough and fever, shortness of...  0.408459  0.273579   \n",
      "1                                      (combined DW)  0.410696  0.278063   \n",
      "2                                      (combined DW)  0.438663  0.306546   \n",
      "3                                      (combined DW)  0.494827  0.352945   \n",
      "4  has a persistent cough and fever, shortness of...  0.408459  0.273579   \n",
      "\n",
      "      Upper  \n",
      "0  0.549465  \n",
      "1  0.550686  \n",
      "2  0.577249  \n",
      "3  0.640202  \n",
      "4  0.549465  \n"
     ]
    }
   ],
   "source": [
    "df_dw = pd.read_csv('../Data/DW/DISABILITY_WEIGHTS.csv', quotechar='\"')\n",
    "print(df_dw.head())"
   ]
  },
  {
   "cell_type": "markdown",
   "id": "eee37f74-fcd1-4204-89c7-b263aebc453e",
   "metadata": {},
   "source": [
    "# Cleaning"
   ]
  },
  {
   "cell_type": "code",
   "execution_count": 62,
   "id": "fd03b6da-90ee-4c3a-ba37-ec788ff9cee8",
   "metadata": {},
   "outputs": [],
   "source": [
    "df_dw[\"Health State Lay Description\"] = df_dw[\"Health State Lay Description\"].astype(str).str.lower()"
   ]
  },
  {
   "cell_type": "code",
   "execution_count": 63,
   "id": "cf5a5cd7-c1b5-42e0-b26c-1084b1184f9c",
   "metadata": {},
   "outputs": [],
   "source": [
    "df_dw = df_dw[\n",
    "    (~df_dw[\"Health State Lay Description\"].str.contains(r'\\bdw\\b')) &\n",
    "    (df_dw['Health State Lay Description'] != 'nan') &\n",
    "    (df_dw['Health State Lay Description'].str.strip() != '')\n",
    "]"
   ]
  },
  {
   "cell_type": "code",
   "execution_count": 64,
   "id": "5edc87fc-6910-4194-9602-6b841b00161c",
   "metadata": {},
   "outputs": [
    {
     "name": "stdout",
     "output_type": "stream",
     "text": [
      "0\n"
     ]
    }
   ],
   "source": [
    "# Duplicates\n",
    "duplicate_counts = df_dw.duplicated().sum()\n",
    "print(duplicate_counts)"
   ]
  },
  {
   "cell_type": "code",
   "execution_count": 65,
   "id": "97a184f9-2575-4513-8356-81a233ac6c2a",
   "metadata": {},
   "outputs": [
    {
     "name": "stdout",
     "output_type": "stream",
     "text": [
      "830\n"
     ]
    }
   ],
   "source": [
    "# Duplicate Descriptions for different sequelas\n",
    "duplicate_counts = df_dw['Health State Lay Description'].duplicated().sum()\n",
    "print(duplicate_counts)"
   ]
  },
  {
   "cell_type": "code",
   "execution_count": 66,
   "id": "ca1ce096-fc48-4d59-802d-f08c4ee10d46",
   "metadata": {},
   "outputs": [
    {
     "name": "stdout",
     "output_type": "stream",
     "text": [
      "Descriptions with inconsistent Mean values: 0\n",
      "Empty DataFrame\n",
      "Columns: [Health State Lay Description, Mean]\n",
      "Index: []\n"
     ]
    }
   ],
   "source": [
    "inconsistent_means = (\n",
    "    df_dw.groupby('Health State Lay Description')['Mean']\n",
    "    .nunique()\n",
    "    .reset_index()\n",
    ")\n",
    "\n",
    "inconsistent_means = inconsistent_means[inconsistent_means['Mean'] > 1]\n",
    "print(f\"Descriptions with inconsistent Mean values: {len(inconsistent_means)}\")\n",
    "print(inconsistent_means)"
   ]
  },
  {
   "cell_type": "code",
   "execution_count": 71,
   "id": "f6d41fc5-6df4-446e-9c8f-e073d70ee0b5",
   "metadata": {},
   "outputs": [],
   "source": [
    "df_dw = df_dw.drop_duplicates(subset=['Health State Lay Description'])"
   ]
  },
  {
   "cell_type": "code",
   "execution_count": 72,
   "id": "c7afb6fa-8cc3-4af1-8148-3c82ee00ff12",
   "metadata": {},
   "outputs": [
    {
     "name": "stdout",
     "output_type": "stream",
     "text": [
      "<class 'pandas.core.frame.DataFrame'>\n",
      "Index: 174 entries, 0 to 2255\n",
      "Data columns (total 6 columns):\n",
      " #   Column                        Non-Null Count  Dtype  \n",
      "---  ------                        --------------  -----  \n",
      " 0   Sequela Name                  174 non-null    object \n",
      " 1   Health State Name             174 non-null    object \n",
      " 2   Health State Lay Description  174 non-null    object \n",
      " 3   Mean                          174 non-null    float64\n",
      " 4   Lower                         174 non-null    float64\n",
      " 5   Upper                         174 non-null    float64\n",
      "dtypes: float64(3), object(3)\n",
      "memory usage: 9.5+ KB\n",
      "None\n"
     ]
    }
   ],
   "source": [
    "print(df_dw.info())"
   ]
  },
  {
   "cell_type": "markdown",
   "id": "886c5342-1e20-4d45-a84a-830bf06a0928",
   "metadata": {},
   "source": [
    "# Splitting Sentences"
   ]
  },
  {
   "cell_type": "code",
   "execution_count": 75,
   "id": "a0ef994b-c2f6-4409-b33c-7138ee6b6b5a",
   "metadata": {},
   "outputs": [],
   "source": [
    "def split_symptoms(text):\n",
    "    text = text.lower().strip()\n",
    "    text = re.sub(r'\\band\\b', ',', text)\n",
    "    text = re.sub(r'\\.', ', ', text)\n",
    "    text = re.sub(r';', ', ', text)\n",
    "    text = re.sub(r'\\s*,\\s*', ', ', text)\n",
    "    return [s.strip() for s in text.split(',') if s.strip()]"
   ]
  },
  {
   "cell_type": "code",
   "execution_count": 76,
   "id": "5305903a-91e1-4d21-ae59-0bf45e6903ba",
   "metadata": {},
   "outputs": [],
   "source": [
    "df_dw['Split Symptoms'] = df_dw[\"Health State Lay Description\"].apply(split_symptoms)"
   ]
  },
  {
   "cell_type": "code",
   "execution_count": 107,
   "id": "5329b572-9d11-4204-91f2-6c4866e6f4c6",
   "metadata": {},
   "outputs": [
    {
     "name": "stdout",
     "output_type": "stream",
     "text": [
      "Original Description:\n",
      "has pain, nausea, fatigue, weight loss and high anxiety.\n",
      "\n",
      "Split Symptoms:\n",
      "['has pain', 'nausea', 'fatigue', 'weight loss', 'high anxiety']\n"
     ]
    }
   ],
   "source": [
    "# Check accracy\n",
    "random_idx = random.choice(df_dw.index)\n",
    "original_text = df_dw.loc[random_idx, \"Health State Lay Description\"]\n",
    "split_list = df_dw.loc[random_idx, \"Split Symptoms\"]\n",
    "\n",
    "print(\"Original Description:\")\n",
    "print(original_text)\n",
    "print(\"\\nSplit Symptoms:\")\n",
    "print(split_list)"
   ]
  },
  {
   "cell_type": "markdown",
   "id": "771fb84e-d8f0-4891-a985-d14621f8510f",
   "metadata": {},
   "source": [
    "# Exporting"
   ]
  },
  {
   "cell_type": "code",
   "execution_count": 77,
   "id": "94c02cac-c926-4d96-8863-670dcd2660e0",
   "metadata": {},
   "outputs": [],
   "source": [
    "df_dw.to_feather('../Data/DW/df_dw_filtered.feather')\n",
    "df_dw.to_excel('../Data/DW/df_dw_filtered.xlsx', index=False)"
   ]
  },
  {
   "cell_type": "code",
   "execution_count": null,
   "id": "8d6173bf-729b-4dc2-9c86-613c7f713942",
   "metadata": {},
   "outputs": [],
   "source": []
  }
 ],
 "metadata": {
  "kernelspec": {
   "display_name": "env_thesis_39",
   "language": "python",
   "name": "env_thesis_39"
  },
  "language_info": {
   "codemirror_mode": {
    "name": "ipython",
    "version": 3
   },
   "file_extension": ".py",
   "mimetype": "text/x-python",
   "name": "python",
   "nbconvert_exporter": "python",
   "pygments_lexer": "ipython3",
   "version": "3.9.13"
  }
 },
 "nbformat": 4,
 "nbformat_minor": 5
}
