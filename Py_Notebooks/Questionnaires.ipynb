{
 "cells": [
  {
   "cell_type": "code",
   "execution_count": 12,
   "id": "0e0906f2-7f0c-41f2-a831-0e25de72cc70",
   "metadata": {},
   "outputs": [],
   "source": [
    "# Libs\n",
    "import pandas as pd\n",
    "import random"
   ]
  },
  {
   "cell_type": "code",
   "execution_count": 13,
   "id": "a7807de9-1b3f-4bea-81ed-99a71d7dc2f9",
   "metadata": {},
   "outputs": [],
   "source": [
    "# General\n",
    "SEED = 42\n",
    "random.seed(SEED)"
   ]
  },
  {
   "cell_type": "markdown",
   "id": "a9368195-b1d1-43c8-a408-9ff77d7440bb",
   "metadata": {},
   "source": [
    "# Loading Data"
   ]
  },
  {
   "cell_type": "code",
   "execution_count": 14,
   "id": "06ef5203-2522-48b2-8155-28377b15d729",
   "metadata": {},
   "outputs": [],
   "source": [
    "df_kp = pd.read_feather(\"../Data/Cleaned/df_dta_kp_cleaned.feather\")\n",
    "df_qt = pd.read_feather(\"../Data/Cleaned/df_dta_qt_cleaned.feather\")\n",
    "\n",
    "keypoints = df_kp['KEY_POINT'].tolist()\n",
    "quotes = df_qt['QUOTES'].tolist()"
   ]
  },
  {
   "cell_type": "markdown",
   "id": "751ca18f-a3f2-417a-a134-b9070ad799b8",
   "metadata": {},
   "source": [
    "# Data Cleaning"
   ]
  },
  {
   "cell_type": "code",
   "execution_count": 15,
   "id": "e5aaeed2-7995-4240-bbf6-efe820da16f1",
   "metadata": {},
   "outputs": [],
   "source": [
    "keypoints = [kp for kp in keypoints if kp != \"\"]\n",
    "quotes = [qt for qt in quotes if qt != \"\"]"
   ]
  },
  {
   "cell_type": "code",
   "execution_count": 16,
   "id": "fe1ec975-9677-4391-9ebe-a8106bc2da67",
   "metadata": {},
   "outputs": [
    {
     "name": "stdout",
     "output_type": "stream",
     "text": [
      "['Need to spend long hours in the restroom.', 'Patients reported uncertainty about whether symptoms were directly caused by the disease or related to treatment side-effects.', 'Intense fatigue and a permanent state of weakness  impacted their daily activities (e.g. driving) and required increased rest.', 'Need to spend long hours in the restroom.', 'Need to spend long hours in the restroom.']\n"
     ]
    }
   ],
   "source": [
    "print(keypoints[:5])"
   ]
  },
  {
   "cell_type": "code",
   "execution_count": 17,
   "id": "7a4af74c-ee49-4371-929f-a444f5d4774f",
   "metadata": {},
   "outputs": [
    {
     "name": "stdout",
     "output_type": "stream",
     "text": [
      "[\"I had a little bit of pain in my duodenum as a result, and so he gave me [name antispasmodic] and he said, 'It's going to pass, don’t worry!' and then it went on like that for months and then at some point I had a huge attack of haemorrhoids that I couldn't walk anymore and canker sores in my mouth. I didn't know how to eat anymore. My cheek had swollen, I looked like a hamster.”\", 'It was big, big cramps in my abdomen. Vomiting all day long.”', 'So I had the symptoms of pain, I had the symptoms of bloating, I had the symptoms of vomiting, I had the symptoms of going to the toilet very regularly, I had this fistula there as well.', 'It was big, big cramps in my abdomen. Vomiting all day long.”', 'So I had the symptoms of pain, I had the symptoms of bloating, I had the symptoms of vomiting, I had the symptoms of going to the toilet very regularly, I had this fistula there as well.']\n"
     ]
    }
   ],
   "source": [
    "print(quotes[:5])"
   ]
  },
  {
   "cell_type": "markdown",
   "id": "7bd08784-e405-4f75-87de-51a591cf7d5d",
   "metadata": {},
   "source": [
    "# Questions"
   ]
  },
  {
   "cell_type": "code",
   "execution_count": 18,
   "id": "72bf2d60-8e0c-4658-8bb5-9976bd2d8de9",
   "metadata": {},
   "outputs": [],
   "source": [
    "amount_of_pairs = 20"
   ]
  },
  {
   "cell_type": "markdown",
   "id": "fafd17da-9511-4647-b65b-0412ce7bad20",
   "metadata": {},
   "source": [
    "## Keypoints"
   ]
  },
  {
   "cell_type": "code",
   "execution_count": 19,
   "id": "c883e5cf-482a-42da-aecb-49a5303dba67",
   "metadata": {},
   "outputs": [
    {
     "name": "stdout",
     "output_type": "stream",
     "text": [
      "['Changes in temperament (e.g., increased irritability) affected relationships.', ' Dissatisfaction due to: Lack of proactive instructions (e.g., COVID vaccination), Lack of guidance on which doctors to consult,\\tInformation shared too quickly and sometimes difficult to understand.', 'Intense fatigue and a permanent state of weakness  impacted their daily activities (e.g. driving) and required increased rest.', 'Surgery sometimes impacted mobility and also caused aesthetic side-effects, causing distress.', 'The cancer diagnosis appeared as a shock.']\n"
     ]
    }
   ],
   "source": [
    "random.shuffle(keypoints)\n",
    "print(keypoints[:5])"
   ]
  },
  {
   "cell_type": "code",
   "execution_count": 23,
   "id": "d15c9078-9f36-4a25-b784-a9462bb43cff",
   "metadata": {},
   "outputs": [
    {
     "name": "stdout",
     "output_type": "stream",
     "text": [
      "Question 1:\n",
      "Also reported creating their own treatment regimens, including medications, food supplements, and techniques to improve their condition.\n",
      "Reduced working hours or long-term sick leave impacted finances.\n",
      "\n",
      "\n",
      "Question 2:\n",
      "Positive experiences included thorough explanations, opportunity to ask questions, compassionate listening.\n",
      " Patients generally trusted doctors’ expertise, but some hesitated to challenge the recommendations, even though they feared contradicting the doctor’s authority.\n",
      "\n",
      "\n",
      "Question 3:\n",
      "Unconventional therapies are sought after when traditional medicine fails to provide relief.\n",
      "The invisibility of treatment effectiveness caused stress.\n",
      "\n",
      "\n",
      "Question 4:\n",
      "Patients desired better guidance and a structured care pathway:\tSuggested implementation of a comprehensive care pathway similar to those for chronic conditions like diabetes or renal failure. Emphasized the importance of patient education, psychological support, and integrating other team members (e.g., nurses, social workers) into the care continuum. France's care model for Crohn's disease was highlighted as a positive example\n",
      "Significant costs of supportive or \"well-being\" services (e.g., massages, pedicures, home arrangements like stairlifts) were noted, often without reimbursement by health insurance.\n",
      "\n",
      "\n",
      "Question 5:\n",
      "The terms cancer and melanoma provoked anxiety.\n",
      " Relationships with other Crohn's Disease patients were beneficial for exchanging experiences and encouragement.\n",
      "\n",
      "\n",
      "Question 6:\n",
      "The invisibility of treatment effectiveness caused stress.\n",
      "Not psychologically prepared to manage such socially awkward situations.\n",
      "\n",
      "\n",
      "Question 7:\n",
      "Not psychologically prepared to manage such socially awkward situations.\n",
      "Patients desired better guidance and a structured care pathway:\tSuggested implementation of a comprehensive care pathway similar to those for chronic conditions like diabetes or renal failure. Emphasized the importance of patient education, psychological support, and integrating other team members (e.g., nurses, social workers) into the care continuum. France's care model for Crohn's disease was highlighted as a positive example\n",
      "\n",
      "\n",
      "Question 8:\n",
      "Suggestions included melanoma days for widespread screening and involving dermatology students to enhance access.\n",
      "Patients reported coping with a heavy administrative burden.\n",
      "\n",
      "\n",
      "Question 9:\n",
      "Significant costs of supportive or \"well-being\" services (e.g., massages, pedicures, home arrangements like stairlifts) were noted, often without reimbursement by health insurance.\n",
      "The expertise of GPs familiar with Crohn's could expedite diagnosis. Correct diagnosis was sometimes received only at university hospitals.\n",
      "\n",
      "\n",
      "Question 10:\n",
      "Changes in temperament (e.g., increased irritability) affected relationships.\n",
      "Involvement in treatment choice varied: some patients had the final say, while others felt obligated to follow prescriptions.\n",
      "\n",
      "\n",
      "Question 11:\n",
      "Need to spend long hours in the restroom.\n",
      "Unconventional therapies are sought after when traditional medicine fails to provide relief.\n",
      "\n",
      "\n",
      "Question 12:\n",
      "Patients reported coping with a heavy administrative burden.\n",
      "Positive experiences included thorough explanations, opportunity to ask questions, compassionate listening.\n",
      "\n",
      "\n",
      "Question 13:\n",
      "The expertise of GPs familiar with Crohn's could expedite diagnosis. Correct diagnosis was sometimes received only at university hospitals.\n",
      "Also reported creating their own treatment regimens, including medications, food supplements, and techniques to improve their condition.\n",
      "\n",
      "\n",
      "Question 14:\n",
      " Patients generally trusted doctors’ expertise, but some hesitated to challenge the recommendations, even though they feared contradicting the doctor’s authority.\n",
      "Need for a better multidisciplinary approach.\n",
      "\n",
      "\n",
      "Question 15:\n",
      "Need for a better multidisciplinary approach.\n",
      "The terms cancer and melanoma provoked anxiety.\n",
      "\n",
      "\n",
      "Question 16:\n",
      " Relationships with other Crohn's Disease patients were beneficial for exchanging experiences and encouragement.\n",
      "Need to spend long hours in the restroom.\n",
      "\n",
      "\n",
      "Question 17:\n",
      "Involvement in treatment choice varied: some patients had the final say, while others felt obligated to follow prescriptions.\n",
      " Patients experienced rising life insurance premiums due to Crohn's.\n",
      "\n",
      "\n",
      "Question 18:\n",
      "Stress stemmed from the fear of disease progression or worsening over time.\n",
      "Suggestions included melanoma days for widespread screening and involving dermatology students to enhance access.\n",
      "\n",
      "\n",
      "Question 19:\n",
      " Patients experienced rising life insurance premiums due to Crohn's.\n",
      " Private health insurance often excluded coverage for Crohn's.\n",
      "\n",
      "\n",
      "Question 20:\n",
      " Private health insurance often excluded coverage for Crohn's.\n",
      "Stress stemmed from the fear of disease progression or worsening over time.\n",
      "\n",
      "\n"
     ]
    }
   ],
   "source": [
    "unique_keypoints = list(set(keypoints))\n",
    "selected_keypoints = unique_keypoints[:(amount_of_pairs+1)]\n",
    "pairs_kp = [(selected_keypoints[i], selected_keypoints[i + 1]) for i in range(0, len(selected_keypoints) - 1)]\n",
    "random.shuffle(pairs_kp)\n",
    "\n",
    "for i, (kp1, kp2) in enumerate(pairs_kp):\n",
    "    print(f\"Question {i+1}:\")\n",
    "    print(kp1)\n",
    "    print(kp2)\n",
    "    print(\"\\n\")\n"
   ]
  },
  {
   "cell_type": "markdown",
   "id": "5d7aa7eb-fb46-4df4-be78-1a0a19520484",
   "metadata": {},
   "source": [
    "## Quotes"
   ]
  },
  {
   "cell_type": "code",
   "execution_count": 21,
   "id": "63597a6d-59ff-4730-b3c0-735b6ba9fd48",
   "metadata": {},
   "outputs": [
    {
     "name": "stdout",
     "output_type": "stream",
     "text": [
      "[\"Well, I've always been extremely independent, but my husband has often accompanied me because it's true that when you're in a crisis, you actually can't do anything.\", \"Insomnia. I have that too. So I'm tremendously tired, but at night I can't sleep. Yes yes. That you actually lie awake at night. I'm downstairs. I'm tired, I crawl into bed. Uh I sleep for two hours, three hours, and then it's done at one time.\", \"I also had no idea what to do with my time. I was just lying there, I could hardly do anything physically, but my mind wasn't still. And then I can assure you, everyone says, oh, you can watch Netflix series, so fun. No, it's not fun. For starters, it gets boring after a while, just watching TV all the time [...] So yeah, it was really difficult to find something, to find a meaningful activity.\", \"It's clear that the spot was really a textbook case, it looked very much like what you see on posters, and at the same time I thought 'well, no', there you go, so I really went into denial, and it's because... Well, a year ago this spot started to ooze, to itch very strongly, that... that's when I thought... then I showed it to my son, who said 'mom, that's not good', and that's when I decided to go to the dermatologist's.\", \"[…]  I also notice that I become more nervous. And that's not my character, because normally when there is a problem I stay calm.\"]\n"
     ]
    }
   ],
   "source": [
    "random.shuffle(quotes)\n",
    "print(quotes[:5])"
   ]
  },
  {
   "cell_type": "code",
   "execution_count": 11,
   "id": "75b76067-79ab-4dd5-a2a6-93cce8d059e3",
   "metadata": {},
   "outputs": [
    {
     "name": "stdout",
     "output_type": "stream",
     "text": [
      "Question 1:\n",
      "And on a mental health level, yes... we all know that access to care for psychologists is very difficult. So access to care for psychologists should be made more accessible. But yes, that's a problem, not just for cancer patients. Even people with mental problems have difficulty accessing it, so I think that's important.\n",
      "I know that there are a few doctors who are very good, they are all fully booked. But, well, the disease is also not very well recognized by other specialists. There are some who are not specialized in it at all, and I must admit that I don't want to go and see them at all. But, well, no, they're not present enough, even if they try to do their best, no, they're not present enough.”\n",
      "\n",
      "\n",
      "Question 2:\n",
      " I always have to have a toilet within reach. So every time I go, a shop- ah there's a toilet. A city, in that shop, I can go there. So in the back of my mind, because if I have to go, I have to go. So at that time there were such thick sanitary pads. Those pants, diaper pants, that didn't exist back then. So yes, I was always insecure.\n",
      "It was big, big cramps in my abdomen. Vomiting all day long.”\n",
      "\n",
      "\n",
      "Question 3:\n",
      "Since I've had surgery and I've been on treatment, we've finally found the right treatment because I've been on five different treatments, I'm on the fifth I think now, I have absolutely nothing.\n",
      "Been home for a week, and I found the fatigue very heavy, I would always sleep and sleep and at one point I said, I have to get over it.“\n",
      "\n",
      "\n",
      "Question 4:\n",
      "Been home for a week, and I found the fatigue very heavy, I would always sleep and sleep and at one point I said, I have to get over it.“\n",
      "“ But now I have participated in IBD for the first time, the professor who is the whole group who gives support to Crohn's and also to colitis, so the whole group was once introduced on an afternoon from 5 to 8 or 9 at the UZ and that is the first time that I have participated in a group. So just listening, what is possible, what is happening and what we are all doing. [...] So there's a whole team behind that and they're basically putting that on those few hours, each individually explaining what their task and their job is. And that's why I'm also on Facebook, so I'm also in the IBD group.”\n",
      "\n",
      "\n",
      "Question 5:\n",
      "I know that there are a few doctors who are very good, they are all fully booked. But, well, the disease is also not very well recognized by other specialists. There are some who are not specialized in it at all, and I must admit that I don't want to go and see them at all. But, well, no, they're not present enough, even if they try to do their best, no, they're not present enough.”\n",
      "We fiddled a little bit with the diagnosis, I have to admit that...\" I even went as far as [Name of University Hospital] in an ambulance to see a specialist at the time, to confirm the disease. I remember being hospitalized for a long time, I think I stayed in the hospital for a month and a half, on an empty stomach, with a central line – which had to be changed twice by the way – well... I think that, at the moment, compared to that, it's a little bit simpler. But that's the memory I have of it, a long diagnosis, a long hospitalization, and a trip to the university hospital to confirm the diagnosis.”\n",
      "\n",
      "\n",
      "Question 6:\n",
      "  Only half (name immunomodulator A) and I'm vomiting over the toilet. And then (name immunomodulator A), I've had that. But that was stopped each time, because I couldn't tolerate it.\n",
      "He's supposed to have a liaison nurse, who manages all the issues.  What I don't know, is whether it's because of lack of resources or... Anyway, she's not very accessible because I don't think she has many hours to handle this. There are a lot of Crohn's patients and so she's a bit overloaded. So there's not really any follow-up of the file, and when you send questions you have to send reminders to get answers, so it's a bit tiring.”\n",
      "\n",
      "\n",
      "Question 7:\n",
      "We fiddled a little bit with the diagnosis, I have to admit that...\" I even went as far as [Name of University Hospital] in an ambulance to see a specialist at the time, to confirm the disease. I remember being hospitalized for a long time, I think I stayed in the hospital for a month and a half, on an empty stomach, with a central line – which had to be changed twice by the way – well... I think that, at the moment, compared to that, it's a little bit simpler. But that's the memory I have of it, a long diagnosis, a long hospitalization, and a trip to the university hospital to confirm the diagnosis.”\n",
      "So I had the symptoms of pain, I had the symptoms of bloating, I had the symptoms of vomiting, I had the symptoms of going to the toilet very regularly, I had this fistula there as well.\n",
      "\n",
      "\n",
      "Question 8:\n",
      "He's supposed to have a liaison nurse, who manages all the issues.  What I don't know, is whether it's because of lack of resources or... Anyway, she's not very accessible because I don't think she has many hours to handle this. There are a lot of Crohn's patients and so she's a bit overloaded. So there's not really any follow-up of the file, and when you send questions you have to send reminders to get answers, so it's a bit tiring.”\n",
      "I'm being followed-up at [name of the hospital] by a very good doctor who saved my life, but I would say now he's even working too much, and we... I really feel the difference, he's been seeing me for 6 years now, I feel the difference, he has too much work, it's... I'm a number.”\n",
      "\n",
      "\n",
      "Question 9:\n",
      "I'm being followed-up at [name of the hospital] by a very good doctor who saved my life, but I would say now he's even working too much, and we... I really feel the difference, he's been seeing me for 6 years now, I feel the difference, he has too much work, it's... I'm a number.”\n",
      " I always have to have a toilet within reach. So every time I go, a shop- ah there's a toilet. A city, in that shop, I can go there. So in the back of my mind, because if I have to go, I have to go. So at that time there were such thick sanitary pads. Those pants, diaper pants, that didn't exist back then. So yes, I was always insecure.\n",
      "\n",
      "\n",
      "Question 10:\n",
      "moreover, the doctor I normally consult was not available. So I had to make do with a telephone consultation with someone who did not know me as a patient at all.\n",
      "I've learned, and that's it, just to know myself. [...] From the information I've seen or read, there wasn't really any instructions saying \"you have Crohn's disease so you can't eat this anymore because it's going to have a negative impact\". You had to see for yourself.”\n",
      "\n",
      "\n",
      "Question 11:\n",
      "No, it wasn't diagnosed through annual check-ups, because nothing was ever found. It's actually because I had a symptom, because I had the swollen lymph node. And it turned out to be the result of a melanoma that had once been there.\" [...] \"So that means that with that metastasis in the lymph node, which was in the lymph node, I was actually already in stage 3, while a melanoma had never been seen. So all those years no melanoma was found. We looked for it, given my brother's story, but no melanoma was found.\n",
      "He doesn't have any treatment... Finally... so [name immunomodulator A] that was quickly over, [name TNF inhibitor A] still worked for a long time and then it does... so, I didn't respond to [name TNF inhibitor A] anymore and so when you don't respond to a treatment anymore, well necessarily first you increase the intake, so now, I no longer injected myself every two weeks but every week, and after x amount of time we do it again. No, it really didn't work, so we changed. Then I took another molecule, I don't remember which one. It didn't work either, after... I think that after a year I was already unresponsive and here I am on [name TNF inhibitor B], with [name immunomodulator B], and here we have just done a test again because it's been a month and a half that I'm really not well [...] so I'm at the stage where I'm wondering if it's still worth taking a treatment.”\n",
      "\n",
      "\n",
      "Question 12:\n",
      "It was big, big cramps in my abdomen. Vomiting all day long.”\n",
      "Yes, parking, I think... I think they should make a separate parking lot for that day center, because it's six euros every time. And I actually think that's too much for... It's not like I'm visiting, but I can't change that they take such a long time... Sometimes I have to sit in that chair or on the bed for three hours. That's not a mortal sin, but I think 6 euros is too much for actually being a patient, a cancer patient. [...] That's not our choice, so they call it a social rate, but I don't think 6 euros is a social rate.\n",
      "\n",
      "\n",
      "Question 13:\n",
      "And then on Facebook as well I found... so I don't know how I came across this at the time, a group in fact that was set up by a lady I think who is followed-up in Liège, in collaboration I think with the gastroenterology services, and in fact all people suffering from either rectocolitis or Crohn's disease can exchange,  Asking questions, uh, throwing out their overflow of emotions, well, it's really a group where you can ask anything, and so if you ask a question, well, you have the feedback from some people. Well, you have to sort it out too but I mean\n",
      "And on a mental health level, yes... we all know that access to care for psychologists is very difficult. So access to care for psychologists should be made more accessible. But yes, that's a problem, not just for cancer patients. Even people with mental problems have difficulty accessing it, so I think that's important.\n",
      "\n",
      "\n",
      "Question 14:\n",
      "The fact that I had this illness, for example, meant I had an increase in my life insurance. After the operation, […] I asked the [name of the specialist] to write me a report saying that there was a remission at that level, to see if there was any way to reduce that insurance. That's what he did, and on the paper it said \"total clinical remission.\" Since the operation, I really don't have anything. And even with that, the insurance doesn't want to diminish.”\n",
      "No, it wasn't diagnosed through annual check-ups, because nothing was ever found. It's actually because I had a symptom, because I had the swollen lymph node. And it turned out to be the result of a melanoma that had once been there.\" [...] \"So that means that with that metastasis in the lymph node, which was in the lymph node, I was actually already in stage 3, while a melanoma had never been seen. So all those years no melanoma was found. We looked for it, given my brother's story, but no melanoma was found.\n",
      "\n",
      "\n",
      "Question 15:\n",
      "He doesn't have any treatment... Finally... so [name immunomodulator A] that was quickly over, [name TNF inhibitor A] still worked for a long time and then it does... so, I didn't respond to [name TNF inhibitor A] anymore and so when you don't respond to a treatment anymore, well necessarily first you increase the intake, so now, I no longer injected myself every two weeks but every week, and after x amount of time we do it again. No, it really didn't work, so we changed. Then I took another molecule, I don't remember which one. It didn't work either, after... I think that after a year I was already unresponsive and here I am on [name TNF inhibitor B], with [name immunomodulator B], and here we have just done a test again because it's been a month and a half that I'm really not well [...] so I'm at the stage where I'm wondering if it's still worth taking a treatment.”\n",
      "At [name of the hospital], they have a Facebook group called [name of the group], and it's super cool because there are all activities [...]. It's great because you can see that it's a positive group. And finally [...], there's never anyone who shows up and says \"I have Crohn's\" or \"I have ulcerative colitis\", we never talk about treatments or anything, it's more like \"ah, did you go to the nutritionists, was it great?\" or give each other little tips \"oh well, I did that, it was good.\n",
      "\n",
      "\n",
      "Question 16:\n",
      "No, the information was not clearly given and all the aspects of the disease, what was going to change, the heaviness of a treatment. Because in the end we are given pills, we don't realize what it is, but ultimately it is still a treatment that I consider quite heavy, with very significant side effects.  And we don't talk about that.”\n",
      "moreover, the doctor I normally consult was not available. So I had to make do with a telephone consultation with someone who did not know me as a patient at all.\n",
      "\n",
      "\n",
      "Question 17:\n",
      "So I had the symptoms of pain, I had the symptoms of bloating, I had the symptoms of vomiting, I had the symptoms of going to the toilet very regularly, I had this fistula there as well.\n",
      "No, the information was not clearly given and all the aspects of the disease, what was going to change, the heaviness of a treatment. Because in the end we are given pills, we don't realize what it is, but ultimately it is still a treatment that I consider quite heavy, with very significant side effects.  And we don't talk about that.”\n",
      "\n",
      "\n",
      "Question 18:\n",
      "Yes, parking, I think... I think they should make a separate parking lot for that day center, because it's six euros every time. And I actually think that's too much for... It's not like I'm visiting, but I can't change that they take such a long time... Sometimes I have to sit in that chair or on the bed for three hours. That's not a mortal sin, but I think 6 euros is too much for actually being a patient, a cancer patient. [...] That's not our choice, so they call it a social rate, but I don't think 6 euros is a social rate.\n",
      "The fact that I had this illness, for example, meant I had an increase in my life insurance. After the operation, […] I asked the [name of the specialist] to write me a report saying that there was a remission at that level, to see if there was any way to reduce that insurance. That's what he did, and on the paper it said \"total clinical remission.\" Since the operation, I really don't have anything. And even with that, the insurance doesn't want to diminish.”\n",
      "\n",
      "\n",
      "Question 19:\n",
      "“ But now I have participated in IBD for the first time, the professor who is the whole group who gives support to Crohn's and also to colitis, so the whole group was once introduced on an afternoon from 5 to 8 or 9 at the UZ and that is the first time that I have participated in a group. So just listening, what is possible, what is happening and what we are all doing. [...] So there's a whole team behind that and they're basically putting that on those few hours, each individually explaining what their task and their job is. And that's why I'm also on Facebook, so I'm also in the IBD group.”\n",
      "And then on Facebook as well I found... so I don't know how I came across this at the time, a group in fact that was set up by a lady I think who is followed-up in Liège, in collaboration I think with the gastroenterology services, and in fact all people suffering from either rectocolitis or Crohn's disease can exchange,  Asking questions, uh, throwing out their overflow of emotions, well, it's really a group where you can ask anything, and so if you ask a question, well, you have the feedback from some people. Well, you have to sort it out too but I mean\n",
      "\n",
      "\n",
      "Question 20:\n",
      "I've learned, and that's it, just to know myself. [...] From the information I've seen or read, there wasn't really any instructions saying \"you have Crohn's disease so you can't eat this anymore because it's going to have a negative impact\". You had to see for yourself.”\n",
      "  Only half (name immunomodulator A) and I'm vomiting over the toilet. And then (name immunomodulator A), I've had that. But that was stopped each time, because I couldn't tolerate it.\n",
      "\n",
      "\n"
     ]
    }
   ],
   "source": [
    "unique_quotes = list(set(quotes))\n",
    "selected_quotes = unique_quotes[:(amount_of_pairs+1)]\n",
    "pairs_qt = [(selected_quotes[i], selected_quotes[i + 1]) for i in range(0, len(selected_quotes) - 1)]\n",
    "random.shuffle(pairs_qt)\n",
    "\n",
    "for i, (qt1, qt2) in enumerate(pairs_qt):\n",
    "    print(f\"Question {i+1}:\")\n",
    "    print(qt1)\n",
    "    print(qt2)\n",
    "    print(\"\\n\")\n"
   ]
  },
  {
   "cell_type": "code",
   "execution_count": null,
   "id": "7a9ffd9b-271d-460c-9138-8be3e46fe8e3",
   "metadata": {},
   "outputs": [],
   "source": []
  }
 ],
 "metadata": {
  "kernelspec": {
   "display_name": "env_thesis",
   "language": "python",
   "name": "env_thesis"
  },
  "language_info": {
   "codemirror_mode": {
    "name": "ipython",
    "version": 3
   },
   "file_extension": ".py",
   "mimetype": "text/x-python",
   "name": "python",
   "nbconvert_exporter": "python",
   "pygments_lexer": "ipython3",
   "version": "3.13.2"
  }
 },
 "nbformat": 4,
 "nbformat_minor": 5
}
