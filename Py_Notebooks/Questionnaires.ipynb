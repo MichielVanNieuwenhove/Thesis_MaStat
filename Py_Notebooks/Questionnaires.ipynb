{
 "cells": [
  {
   "cell_type": "code",
   "execution_count": 13,
   "id": "0e0906f2-7f0c-41f2-a831-0e25de72cc70",
   "metadata": {},
   "outputs": [],
   "source": [
    "# Libs\n",
    "import pandas as pd\n",
    "import random"
   ]
  },
  {
   "cell_type": "code",
   "execution_count": 14,
   "id": "a7807de9-1b3f-4bea-81ed-99a71d7dc2f9",
   "metadata": {},
   "outputs": [],
   "source": [
    "# General\n",
    "SEED = 42\n",
    "random.seed(SEED)"
   ]
  },
  {
   "cell_type": "markdown",
   "id": "a9368195-b1d1-43c8-a408-9ff77d7440bb",
   "metadata": {},
   "source": [
    "# Loading Data"
   ]
  },
  {
   "cell_type": "code",
   "execution_count": 15,
   "id": "06ef5203-2522-48b2-8155-28377b15d729",
   "metadata": {},
   "outputs": [],
   "source": [
    "df_kp = pd.read_feather(\"../Data/Cleaned/df_dta_kp_cleaned.feather\")\n",
    "df_qt = pd.read_feather(\"../Data/Cleaned/df_dta_qt_cleaned.feather\")\n",
    "\n",
    "keypoints = df_kp['KEY_POINT'].tolist()\n",
    "quotes = df_qt['QUOTES'].tolist()"
   ]
  },
  {
   "cell_type": "markdown",
   "id": "751ca18f-a3f2-417a-a134-b9070ad799b8",
   "metadata": {},
   "source": [
    "# Data Cleaning"
   ]
  },
  {
   "cell_type": "code",
   "execution_count": 16,
   "id": "e5aaeed2-7995-4240-bbf6-efe820da16f1",
   "metadata": {},
   "outputs": [],
   "source": [
    "keypoints = [kp for kp in keypoints if kp != \"\"]\n",
    "quotes = [qt for qt in quotes if qt != \"\"]"
   ]
  },
  {
   "cell_type": "code",
   "execution_count": 17,
   "id": "fe1ec975-9677-4391-9ebe-a8106bc2da67",
   "metadata": {},
   "outputs": [
    {
     "name": "stdout",
     "output_type": "stream",
     "text": [
      "['Need to spend long hours in the restroom.', 'Patients reported uncertainty about whether symptoms were directly caused by the disease or related to treatment side-effects.', 'Intense fatigue and a permanent state of weakness  impacted their daily activities (e.g. driving) and required increased rest.', 'Need to spend long hours in the restroom.', 'Need to spend long hours in the restroom.']\n"
     ]
    }
   ],
   "source": [
    "print(keypoints[:5])"
   ]
  },
  {
   "cell_type": "code",
   "execution_count": 18,
   "id": "7a4af74c-ee49-4371-929f-a444f5d4774f",
   "metadata": {},
   "outputs": [
    {
     "name": "stdout",
     "output_type": "stream",
     "text": [
      "[\"I had a little bit of pain in my duodenum as a result, and so he gave me [name antispasmodic] and he said, 'It's going to pass, don’t worry!' and then it went on like that for months and then at some point I had a huge attack of haemorrhoids that I couldn't walk anymore and canker sores in my mouth. I didn't know how to eat anymore. My cheek had swollen, I looked like a hamster.”\", 'It was big, big cramps in my abdomen. Vomiting all day long.”', 'So I had the symptoms of pain, I had the symptoms of bloating, I had the symptoms of vomiting, I had the symptoms of going to the toilet very regularly, I had this fistula there as well.', 'It was big, big cramps in my abdomen. Vomiting all day long.”', 'So I had the symptoms of pain, I had the symptoms of bloating, I had the symptoms of vomiting, I had the symptoms of going to the toilet very regularly, I had this fistula there as well.']\n"
     ]
    }
   ],
   "source": [
    "print(quotes[:5])"
   ]
  },
  {
   "cell_type": "markdown",
   "id": "7bd08784-e405-4f75-87de-51a591cf7d5d",
   "metadata": {},
   "source": [
    "# Questions"
   ]
  },
  {
   "cell_type": "code",
   "execution_count": 19,
   "id": "72bf2d60-8e0c-4658-8bb5-9976bd2d8de9",
   "metadata": {},
   "outputs": [],
   "source": [
    "amount_of_pairs = 20"
   ]
  },
  {
   "cell_type": "markdown",
   "id": "fafd17da-9511-4647-b65b-0412ce7bad20",
   "metadata": {},
   "source": [
    "## Keypoints"
   ]
  },
  {
   "cell_type": "code",
   "execution_count": 20,
   "id": "c883e5cf-482a-42da-aecb-49a5303dba67",
   "metadata": {},
   "outputs": [
    {
     "name": "stdout",
     "output_type": "stream",
     "text": [
      "['Changes in temperament (e.g., increased irritability) affected relationships.', ' Dissatisfaction due to: Lack of proactive instructions (e.g., COVID vaccination), Lack of guidance on which doctors to consult,\\tInformation shared too quickly and sometimes difficult to understand.', 'Intense fatigue and a permanent state of weakness  impacted their daily activities (e.g. driving) and required increased rest.', 'Surgery sometimes impacted mobility and also caused aesthetic side-effects, causing distress.', 'The cancer diagnosis appeared as a shock.']\n"
     ]
    }
   ],
   "source": [
    "random.shuffle(keypoints)\n",
    "print(keypoints[:5])"
   ]
  },
  {
   "cell_type": "code",
   "execution_count": 21,
   "id": "d15c9078-9f36-4a25-b784-a9462bb43cff",
   "metadata": {},
   "outputs": [
    {
     "name": "stdout",
     "output_type": "stream",
     "text": [
      "Question 1:\n",
      "Lack of objective criteria to diagnose Long COVID\n",
      "Not psychologically prepared to manage such socially awkward situations.\n",
      "\n",
      "\n",
      "Question 2:\n",
      "Not psychologically prepared to manage such socially awkward situations.\n",
      "Variety of symptoms and uncertainties about long COVID result in an unstandardized treatment approach.\n",
      "\n",
      "\n",
      "Question 3:\n",
      "Stopping treatment was seen as a sign of recovery, despite understanding the disease as incurable.\n",
      "Includes purchases and adaptations related to long COVID that are not direct medical expenses or alternative therapies. Examples include buying an electric bicycle for limited physical capacity, purchasing protective equipment (e.g., masks), additional household costs, and increased transport costs (e.g., frequent medical visits).\n",
      "\n",
      "\n",
      "Question 4:\n",
      "Sub-optimal communication was sometimes used to deliver diagnoses.\n",
      "Minimal or no healthcare out-of-pocket expenses, with even expensive treatments fully reimbursed.\n",
      "\n",
      "\n",
      "Question 5:\n",
      "Variety of symptoms and uncertainties about long COVID result in an unstandardized treatment approach.\n",
      "Lack of humanity from healthcare professionals was sometimes noted.\n",
      "\n",
      "\n",
      "Question 6:\n",
      "Discussing the disease was an important criterion for satisfaction.\n",
      "Need for clear and understandable information.\n",
      "\n",
      "\n",
      "Question 7:\n",
      "Minimal or no healthcare out-of-pocket expenses, with even expensive treatments fully reimbursed.\n",
      "Expenses also included food supplements like probiotics and vitamins, which are not reimbursed.\n",
      "\n",
      "\n",
      "Question 8:\n",
      "Stress stemmed from the fear of disease progression or worsening over time.\n",
      "Emphasis was placed on the need for expanded early detection campaigns.\n",
      "\n",
      "\n",
      "Question 9:\n",
      "Treatment options were sometimes perceived as limited and rigid\n",
      "Sub-optimal communication was sometimes used to deliver diagnoses.\n",
      "\n",
      "\n",
      "Question 10:\n",
      "The invisibility of treatment effectiveness caused stress.\n",
      "Involvement in these groups included emotionally challenging experiences, such as announcements of deaths or unexpected relapses years after treatment.\n",
      "\n",
      "\n",
      "Question 11:\n",
      "Lack of humanity from healthcare professionals was sometimes noted.\n",
      "The expertise of GPs familiar with Crohn's could expedite diagnosis. Correct diagnosis was sometimes received only at university hospitals.\n",
      "\n",
      "\n",
      "Question 12:\n",
      "Importance of how doctors communicate the CD diagnosis: Crucial elements: compassion, frankness, and time devoted to explaining the disease and its consequences\n",
      "Stopping treatment was seen as a sign of recovery, despite understanding the disease as incurable.\n",
      "\n",
      "\n",
      "Question 13:\n",
      " Identifying melanoma was sometimes challenging, as some were first diagnosed as benign conditions.\n",
      "Treatment options were sometimes perceived as limited and rigid\n",
      "\n",
      "\n",
      "Question 14:\n",
      "Expenses also included food supplements like probiotics and vitamins, which are not reimbursed.\n",
      "The invisibility of treatment effectiveness caused stress.\n",
      "\n",
      "\n",
      "Question 15:\n",
      "The decision to seek medical help for first symptoms was triggered by the onset of new symptoms, advice from relatives, or awareness campaigns.\n",
      "Stress stemmed from the fear of disease progression or worsening over time.\n",
      "\n",
      "\n",
      "Question 16:\n",
      "Includes purchases and adaptations related to long COVID that are not direct medical expenses or alternative therapies. Examples include buying an electric bicycle for limited physical capacity, purchasing protective equipment (e.g., masks), additional household costs, and increased transport costs (e.g., frequent medical visits).\n",
      " Identifying melanoma was sometimes challenging, as some were first diagnosed as benign conditions.\n",
      "\n",
      "\n",
      "Question 17:\n",
      "Not psychologically prepared to manage these socially awkward situations.\n",
      "Importance of how doctors communicate the CD diagnosis: Crucial elements: compassion, frankness, and time devoted to explaining the disease and its consequences\n",
      "\n",
      "\n",
      "Question 18:\n",
      "Need for clear and understandable information.\n",
      "The decision to seek medical help for first symptoms was triggered by the onset of new symptoms, advice from relatives, or awareness campaigns.\n",
      "\n",
      "\n",
      "Question 19:\n",
      "Involvement in these groups included emotionally challenging experiences, such as announcements of deaths or unexpected relapses years after treatment.\n",
      "Discussing the disease was an important criterion for satisfaction.\n",
      "\n",
      "\n",
      "Question 20:\n",
      "The expertise of GPs familiar with Crohn's could expedite diagnosis. Correct diagnosis was sometimes received only at university hospitals.\n",
      "Not psychologically prepared to manage these socially awkward situations.\n",
      "\n",
      "\n"
     ]
    }
   ],
   "source": [
    "unique_keypoints = list(set(keypoints))\n",
    "selected_keypoints = unique_keypoints[:(amount_of_pairs+1)]\n",
    "pairs_kp = [(selected_keypoints[i], selected_keypoints[i + 1]) for i in range(0, len(selected_keypoints) - 1)]\n",
    "random.shuffle(pairs_kp)\n",
    "\n",
    "for i, (kp1, kp2) in enumerate(pairs_kp):\n",
    "    print(f\"Question {i+1}:\")\n",
    "    print(kp1)\n",
    "    print(kp2)\n",
    "    print(\"\\n\")\n"
   ]
  },
  {
   "cell_type": "markdown",
   "id": "5d7aa7eb-fb46-4df4-be78-1a0a19520484",
   "metadata": {},
   "source": [
    "## Quotes"
   ]
  },
  {
   "cell_type": "code",
   "execution_count": 22,
   "id": "63597a6d-59ff-4730-b3c0-735b6ba9fd48",
   "metadata": {},
   "outputs": [
    {
     "name": "stdout",
     "output_type": "stream",
     "text": [
      "[\"Well, I've always been extremely independent, but my husband has often accompanied me because it's true that when you're in a crisis, you actually can't do anything.\", \"Insomnia. I have that too. So I'm tremendously tired, but at night I can't sleep. Yes yes. That you actually lie awake at night. I'm downstairs. I'm tired, I crawl into bed. Uh I sleep for two hours, three hours, and then it's done at one time.\", \"I also had no idea what to do with my time. I was just lying there, I could hardly do anything physically, but my mind wasn't still. And then I can assure you, everyone says, oh, you can watch Netflix series, so fun. No, it's not fun. For starters, it gets boring after a while, just watching TV all the time [...] So yeah, it was really difficult to find something, to find a meaningful activity.\", \"It's clear that the spot was really a textbook case, it looked very much like what you see on posters, and at the same time I thought 'well, no', there you go, so I really went into denial, and it's because... Well, a year ago this spot started to ooze, to itch very strongly, that... that's when I thought... then I showed it to my son, who said 'mom, that's not good', and that's when I decided to go to the dermatologist's.\", \"[…]  I also notice that I become more nervous. And that's not my character, because normally when there is a problem I stay calm.\"]\n"
     ]
    }
   ],
   "source": [
    "random.shuffle(quotes)\n",
    "print(quotes[:5])"
   ]
  },
  {
   "cell_type": "code",
   "execution_count": 23,
   "id": "75b76067-79ab-4dd5-a2a6-93cce8d059e3",
   "metadata": {},
   "outputs": [
    {
     "name": "stdout",
     "output_type": "stream",
     "text": [
      "Question 1:\n",
      "Yes, about the treatment, about the progress in melanoma research, how to support melanoma research, if there are also things... Life expectancy in relation to the stage, because we see a lot of things, uh... that are contradictory too.\n",
      "I've learned, and that's it, just to know myself. [...] From the information I've seen or read, there wasn't really any instructions saying \"you have Crohn's disease so you can't eat this anymore because it's going to have a negative impact\". You had to see for yourself.”\n",
      "\n",
      "\n",
      "Question 2:\n",
      "I've learned, and that's it, just to know myself. [...] From the information I've seen or read, there wasn't really any instructions saying \"you have Crohn's disease so you can't eat this anymore because it's going to have a negative impact\". You had to see for yourself.”\n",
      "Yes, we have to move on. So it's actually a combination of circumstances and even during the examination at [name of the hospital], they didn't even know whether it was a primary melanoma or a metastasis. So for me it's really a difficult case, because I believe that technology should be more advanced. That there is still doubt in the final report... but I think that can happen in the medical world, but my brain doesn't understand it.\n",
      "\n",
      "\n",
      "Question 3:\n",
      "He's supposed to have a liaison nurse, who manages all the issues.  What I don't know, is whether it's because of lack of resources or... Anyway, she's not very accessible because I don't think she has many hours to handle this. There are a lot of Crohn's patients and so she's a bit overloaded. So there's not really any follow-up of the file, and when you send questions you have to send reminders to get answers, so it's a bit tiring.”\n",
      "[...] so he gave me [name antispasmodic] and he said, 'It's going to pass, don’t worry!' and then it went on like that for months and then at some point I had [...] canker sores in my mouth. I didn't know how to eat anymore. My cheek had swollen, I looked like a hamster.”\n",
      "\n",
      "\n",
      "Question 4:\n",
      "Now we are in the phase where we are actually trying to manage the side effects of immunotherapy, but for me every time I go to the oncology day center, it's still like 'what am I doing here?' Because it's not proven, not even in the literature, that the therapy they are giving me now is not standard, but what is standard of course... So I'm always still in doubt about what they can do... I look at it like this, if you don't have a headache, do you take headache pills? And if there are no tumors, what does that immunotherapy actually do in my body?\n",
      "Actually, my brother was the reason. A few years ago he had a melanoma and it was surgically removed and that was it. There was no treatment, no follow-up or anything like that. [...] Another reason was also because my sister-in-law died of a melanoma. That made the urgency even greater.\n",
      "\n",
      "\n",
      "Question 5:\n",
      "They explained to me [...] absolutely nothing about what was post-operative... and they didn't ask me any questions.\" [...] \"The surgeon didn't tell me at all during the consultation, that after such an intervention, I had no idea, there are so many weeks of recovery.\" [...] \"No one asked me after the operation if I had someone near me to watch over me, to help me, to uh... and they didn't explain to me that I would need a nurse to change the dressings. They hadn't told me anything.\n",
      "“ I also had surgery [...] then started taking medication and then nothing more. Immediately no more complaints, no cramps, diarrhoea though. The need to go to the toilet, yes, but for the rest never nothing anymore.”\n",
      "\n",
      "\n",
      "Question 6:\n",
      "That there is a care coordinator or a case manager or that you have a personal coach who can guide you through all phases and not necessarily emotionally. Although I think you shouldn't separate these functions. I think you should have an onco-coach who can do everything. Someone who can follow up on the administrative side for you and, because that shouldn't be too much work, but someone who can do that. But someone who can also provide some emotional support. I think you'd get more out of it in that way. I think a psychologist is more in the second line, and is not necessary for everyone. But having a coach who walks alongside you, who holds the baton for you. I think that would be ideal for me. Who also ensures coordination between first line, second line, contacts, and possibly GP if necessary.\n",
      "Yes, parking, I think... I think they should make a separate parking lot for that day center, because it's six euros every time. And I actually think that's too much for... It's not like I'm visiting, but I can't change that they take such a long time... Sometimes I have to sit in that chair or on the bed for three hours. That's not a mortal sin, but I think 6 euros is too much for actually being a patient, a cancer patient. [...] That's not our choice, so they call it a social rate, but I don't think 6 euros is a social rate.\n",
      "\n",
      "\n",
      "Question 7:\n",
      "Because I am sick, but if I die, my wife will be left behind. So psychologically, that also hits deep.\n",
      "And on a mental health level, yes... we all know that access to care for psychologists is very difficult. So access to care for psychologists should be made more accessible. But yes, that's a problem, not just for cancer patients. Even people with mental problems have difficulty accessing it, so I think that's important.\n",
      "\n",
      "\n",
      "Question 8:\n",
      "It was big, big cramps in my abdomen. Vomiting all day long.”\n",
      "Yes, about the treatment, about the progress in melanoma research, how to support melanoma research, if there are also things... Life expectancy in relation to the stage, because we see a lot of things, uh... that are contradictory too.\n",
      "\n",
      "\n",
      "Question 9:\n",
      "[...] so he gave me [name antispasmodic] and he said, 'It's going to pass, don’t worry!' and then it went on like that for months and then at some point I had [...] canker sores in my mouth. I didn't know how to eat anymore. My cheek had swollen, I looked like a hamster.”\n",
      "Because I am sick, but if I die, my wife will be left behind. So psychologically, that also hits deep.\n",
      "\n",
      "\n",
      "Question 10:\n",
      "I went to a psychologist once, back then because of my hands. Then I became really desperate. I could hardly wash my hands, that pain, everything I touched. And I knew it was irreversible. And maybe it was even getting worse.\n",
      "What I often notice with doctors is that they have their specialty, so he looked at the gynaecological aspects. My baby was fine, so he made me understand that the rest was in my head. But it wasn't in my head, I was really not well. “ [...] Because it wasn't related to the baby... And finally the first gastroenterologist I saw, but him, he would only see my intestine.”\n",
      "\n",
      "\n",
      "Question 11:\n",
      "The [name interleukin inhibitor] works very well, I do an injection every 8 weeks, and in any case for Crohn's and Verneuil for the moment it works perfectly. Oh, really. It works very well.”\n",
      "It was big, big cramps in my abdomen. Vomiting all day long.”\n",
      "\n",
      "\n",
      "Question 12:\n",
      "Having trouble finding words, not being able to finish sentences, having a lot of trouble concentrating (e.g. during work, asking yourself every 5 minutes what you were doing now... which folder did I want to open again' or “what was I going to do next”), confused in the sense that you very often forget things or sometimes have the feeling that you are in a fog where everything is blurred in your head for a moment, these are all symptoms that I never had before the disease\n",
      "He doesn't have any treatment... Finally... so [name immunomodulator A] that was quickly over, [name TNF inhibitor A] still worked for a long time and then it does... so, I didn't respond to [name TNF inhibitor A] anymore and so when you don't respond to a treatment anymore, well necessarily first you increase the intake, so now, I no longer injected myself every two weeks but every week, and after x amount of time we do it again. No, it really didn't work, so we changed. Then I took another molecule, I don't remember which one. It didn't work either, after... I think that after a year I was already unresponsive and here I am on [name TNF inhibitor B], with [name immunomodulator B], and here we have just done a test again because it's been a month and a half that I'm really not well [...] so I'm at the stage where I'm wondering if it's still worth taking a treatment.”\n",
      "\n",
      "\n",
      "Question 13:\n",
      "“ I also had surgery [...] then started taking medication and then nothing more. Immediately no more complaints, no cramps, diarrhoea though. The need to go to the toilet, yes, but for the rest never nothing anymore.”\n",
      "I went to a psychologist once, back then because of my hands. Then I became really desperate. I could hardly wash my hands, that pain, everything I touched. And I knew it was irreversible. And maybe it was even getting worse.\n",
      "\n",
      "\n",
      "Question 14:\n",
      "What I often notice with doctors is that they have their specialty, so he looked at the gynaecological aspects. My baby was fine, so he made me understand that the rest was in my head. But it wasn't in my head, I was really not well. “ [...] Because it wasn't related to the baby... And finally the first gastroenterologist I saw, but him, he would only see my intestine.”\n",
      "Now we are in the phase where we are actually trying to manage the side effects of immunotherapy, but for me every time I go to the oncology day center, it's still like 'what am I doing here?' Because it's not proven, not even in the literature, that the therapy they are giving me now is not standard, but what is standard of course... So I'm always still in doubt about what they can do... I look at it like this, if you don't have a headache, do you take headache pills? And if there are no tumors, what does that immunotherapy actually do in my body?\n",
      "\n",
      "\n",
      "Question 15:\n",
      "Yes, parking, I think... I think they should make a separate parking lot for that day center, because it's six euros every time. And I actually think that's too much for... It's not like I'm visiting, but I can't change that they take such a long time... Sometimes I have to sit in that chair or on the bed for three hours. That's not a mortal sin, but I think 6 euros is too much for actually being a patient, a cancer patient. [...] That's not our choice, so they call it a social rate, but I don't think 6 euros is a social rate.\n",
      "The [name interleukin inhibitor] works very well, I do an injection every 8 weeks, and in any case for Crohn's and Verneuil for the moment it works perfectly. Oh, really. It works very well.”\n",
      "\n",
      "\n",
      "Question 16:\n",
      " I always have to have a toilet within reach. So every time I go, a shop- ah there's a toilet. A city, in that shop, I can go there. So in the back of my mind, because if I have to go, I have to go. So at that time there were such thick sanitary pads. Those pants, diaper pants, that didn't exist back then. So yes, I was always insecure.\n",
      "They explained to me [...] absolutely nothing about what was post-operative... and they didn't ask me any questions.\" [...] \"The surgeon didn't tell me at all during the consultation, that after such an intervention, I had no idea, there are so many weeks of recovery.\" [...] \"No one asked me after the operation if I had someone near me to watch over me, to help me, to uh... and they didn't explain to me that I would need a nurse to change the dressings. They hadn't told me anything.\n",
      "\n",
      "\n",
      "Question 17:\n",
      "He doesn't have any treatment... Finally... so [name immunomodulator A] that was quickly over, [name TNF inhibitor A] still worked for a long time and then it does... so, I didn't respond to [name TNF inhibitor A] anymore and so when you don't respond to a treatment anymore, well necessarily first you increase the intake, so now, I no longer injected myself every two weeks but every week, and after x amount of time we do it again. No, it really didn't work, so we changed. Then I took another molecule, I don't remember which one. It didn't work either, after... I think that after a year I was already unresponsive and here I am on [name TNF inhibitor B], with [name immunomodulator B], and here we have just done a test again because it's been a month and a half that I'm really not well [...] so I'm at the stage where I'm wondering if it's still worth taking a treatment.”\n",
      " I always have to have a toilet within reach. So every time I go, a shop- ah there's a toilet. A city, in that shop, I can go there. So in the back of my mind, because if I have to go, I have to go. So at that time there were such thick sanitary pads. Those pants, diaper pants, that didn't exist back then. So yes, I was always insecure.\n",
      "\n",
      "\n",
      "Question 18:\n",
      "Actually, my brother was the reason. A few years ago he had a melanoma and it was surgically removed and that was it. There was no treatment, no follow-up or anything like that. [...] Another reason was also because my sister-in-law died of a melanoma. That made the urgency even greater.\n",
      "That there is a care coordinator or a case manager or that you have a personal coach who can guide you through all phases and not necessarily emotionally. Although I think you shouldn't separate these functions. I think you should have an onco-coach who can do everything. Someone who can follow up on the administrative side for you and, because that shouldn't be too much work, but someone who can do that. But someone who can also provide some emotional support. I think you'd get more out of it in that way. I think a psychologist is more in the second line, and is not necessary for everyone. But having a coach who walks alongside you, who holds the baton for you. I think that would be ideal for me. Who also ensures coordination between first line, second line, contacts, and possibly GP if necessary.\n",
      "\n",
      "\n",
      "Question 19:\n",
      "Yes, we have to move on. So it's actually a combination of circumstances and even during the examination at [name of the hospital], they didn't even know whether it was a primary melanoma or a metastasis. So for me it's really a difficult case, because I believe that technology should be more advanced. That there is still doubt in the final report... but I think that can happen in the medical world, but my brain doesn't understand it.\n",
      "But I also have to say, my oncologist also provided the necessary information. Not only to me, but also to my wife, my children. I think my parents called him once. And he took the time every time to explain it, okay, that's it. Here we are now. These are the treatment options.\n",
      "\n",
      "\n",
      "Question 20:\n",
      "But I also have to say, my oncologist also provided the necessary information. Not only to me, but also to my wife, my children. I think my parents called him once. And he took the time every time to explain it, okay, that's it. Here we are now. These are the treatment options.\n",
      "He's supposed to have a liaison nurse, who manages all the issues.  What I don't know, is whether it's because of lack of resources or... Anyway, she's not very accessible because I don't think she has many hours to handle this. There are a lot of Crohn's patients and so she's a bit overloaded. So there's not really any follow-up of the file, and when you send questions you have to send reminders to get answers, so it's a bit tiring.”\n",
      "\n",
      "\n"
     ]
    }
   ],
   "source": [
    "unique_quotes = list(set(quotes))\n",
    "selected_quotes = unique_quotes[:(amount_of_pairs+1)]\n",
    "pairs_qt = [(selected_quotes[i], selected_quotes[i + 1]) for i in range(0, len(selected_quotes) - 1)]\n",
    "random.shuffle(pairs_qt)\n",
    "\n",
    "for i, (qt1, qt2) in enumerate(pairs_qt):\n",
    "    print(f\"Question {i+1}:\")\n",
    "    print(qt1)\n",
    "    print(qt2)\n",
    "    print(\"\\n\")\n"
   ]
  },
  {
   "cell_type": "code",
   "execution_count": null,
   "id": "7a9ffd9b-271d-460c-9138-8be3e46fe8e3",
   "metadata": {},
   "outputs": [],
   "source": []
  }
 ],
 "metadata": {
  "kernelspec": {
   "display_name": "env_thesis",
   "language": "python",
   "name": "env_thesis"
  },
  "language_info": {
   "codemirror_mode": {
    "name": "ipython",
    "version": 3
   },
   "file_extension": ".py",
   "mimetype": "text/x-python",
   "name": "python",
   "nbconvert_exporter": "python",
   "pygments_lexer": "ipython3",
   "version": "3.13.2"
  }
 },
 "nbformat": 4,
 "nbformat_minor": 5
}
