{
 "cells": [
  {
   "cell_type": "code",
   "execution_count": 32,
   "id": "42ad9d4c-977d-49d9-af3d-13a59b345fcc",
   "metadata": {},
   "outputs": [],
   "source": [
    "# Libs\n",
    "import pandas as pd\n",
    "import random"
   ]
  },
  {
   "cell_type": "code",
   "execution_count": 3,
   "id": "e5ff5051-d22c-4f14-b824-fd39053d461a",
   "metadata": {},
   "outputs": [],
   "source": [
    "# General\n",
    "SEED = 42\n",
    "random.seed(SEED)"
   ]
  },
  {
   "cell_type": "markdown",
   "id": "342e8321-b0e9-414f-a65f-358b8927a8b3",
   "metadata": {},
   "source": [
    "# Loading Data"
   ]
  },
  {
   "cell_type": "markdown",
   "id": "9859373d-9cbf-4623-af32-eb8a387342fa",
   "metadata": {},
   "source": [
    "## Keypoints"
   ]
  },
  {
   "cell_type": "code",
   "execution_count": 7,
   "id": "0fb5d51a-3a1a-453d-b877-569581c6d9d6",
   "metadata": {},
   "outputs": [
    {
     "name": "stdout",
     "output_type": "stream",
     "text": [
      "   ID                                          KEY_POINT\n",
      "0  11  Patients reported uncertainty about whether sy...\n",
      "1  12  Intense fatigue and a permanent state of weakn...\n",
      "2  13          Need to spend long hours in the restroom.\n",
      "3  21          Need to spend long hours in the restroom.\n",
      "4  27          Need to spend long hours in the restroom.\n"
     ]
    }
   ],
   "source": [
    "df_kp = pd.read_feather(\"../Data/Cleaned/df_dta_kp_cleaned.feather\")\n",
    "print(df_kp.head())"
   ]
  },
  {
   "cell_type": "markdown",
   "id": "b3c4ef43-ed75-4fc1-b081-779156306560",
   "metadata": {},
   "source": [
    "## Questionnaire"
   ]
  },
  {
   "cell_type": "code",
   "execution_count": 31,
   "id": "32b7d731-bd35-42ca-8bcf-e7cb0950d24b",
   "metadata": {},
   "outputs": [
    {
     "name": "stdout",
     "output_type": "stream",
     "text": [
      "Tijdstempel\n",
      "Question                      3/20\\n\\nKeypoint 1 (K1):\\nStopping treatment w...\n",
      "2025-04-28 10:32:43.897000                                                    2\n",
      "2025-04-28 11:02:35.679000                                                    2\n",
      "2025-04-30 11:17:45.719000                                                    3\n",
      "Name: 2, dtype: object\n"
     ]
    }
   ],
   "source": [
    "df_kp_answers = pd.read_excel(\"../Data/Questionnaires_answers/Questionnaire_kp_answers.xlsx\", engine='openpyxl')\n",
    "\n",
    "df_kp_answers = df_kp_answers.T\n",
    "df_kp_answers.columns = df_kp_answers.iloc[0].astype(str)\n",
    "df_kp_answers = df_kp_answers[1:]\n",
    "df_kp_answers.reset_index(inplace=True)\n",
    "df_kp_answers.rename(columns={'index': 'Question'}, inplace=True)\n",
    "\n",
    "print(df_kp_answers.iloc[2])"
   ]
  },
  {
   "cell_type": "markdown",
   "id": "23eb4c53-138c-4718-b55e-2e9ad9824d38",
   "metadata": {},
   "source": [
    "# Data Cleaning"
   ]
  },
  {
   "cell_type": "markdown",
   "id": "fd199320-85b3-482d-9da1-5938eebd6783",
   "metadata": {},
   "source": [
    "## Keypoints"
   ]
  },
  {
   "cell_type": "code",
   "execution_count": null,
   "id": "a92e75e5-a2a2-494f-a47a-cfbab7a0633c",
   "metadata": {},
   "outputs": [],
   "source": []
  },
  {
   "cell_type": "markdown",
   "id": "ffc7b03c-5883-4dc3-aaef-a980f7dd6d8c",
   "metadata": {},
   "source": [
    "## Questionnaire"
   ]
  },
  {
   "cell_type": "code",
   "execution_count": null,
   "id": "6cff345c-860e-4187-8bea-6db4aafc5b50",
   "metadata": {},
   "outputs": [],
   "source": []
  },
  {
   "cell_type": "markdown",
   "id": "6f56fe87-30cc-45ce-b2e7-2ab112d48601",
   "metadata": {},
   "source": [
    "# Pairwise comparison to score"
   ]
  },
  {
   "cell_type": "code",
   "execution_count": null,
   "id": "ecd782b6-54aa-490f-aad1-e97906498b71",
   "metadata": {},
   "outputs": [],
   "source": []
  },
  {
   "cell_type": "code",
   "execution_count": null,
   "id": "460ccc10-77a1-46c3-b966-1b00c7735bfb",
   "metadata": {},
   "outputs": [],
   "source": []
  },
  {
   "cell_type": "code",
   "execution_count": null,
   "id": "9e66cd5a-248c-4a3d-a272-a046beec5850",
   "metadata": {},
   "outputs": [],
   "source": []
  },
  {
   "cell_type": "code",
   "execution_count": null,
   "id": "29684867-2d79-4296-9d8d-d4ec639e43a4",
   "metadata": {},
   "outputs": [],
   "source": []
  }
 ],
 "metadata": {
  "kernelspec": {
   "display_name": "env_thesis",
   "language": "python",
   "name": "env_thesis"
  },
  "language_info": {
   "codemirror_mode": {
    "name": "ipython",
    "version": 3
   },
   "file_extension": ".py",
   "mimetype": "text/x-python",
   "name": "python",
   "nbconvert_exporter": "python",
   "pygments_lexer": "ipython3",
   "version": "3.13.2"
  }
 },
 "nbformat": 4,
 "nbformat_minor": 5
}
