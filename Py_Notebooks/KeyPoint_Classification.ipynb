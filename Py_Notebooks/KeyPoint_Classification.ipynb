{
 "cells": [
  {
   "cell_type": "code",
   "execution_count": 45,
   "metadata": {},
   "outputs": [],
   "source": [
    "# libs\n",
    "from transformers import AutoModel, AutoTokenizer\n",
    "import pandas as pd\n",
    "import pyarrow\n",
    "import torch\n",
    "from sklearn.cluster import KMeans\n",
    "import numpy as np\n",
    "import matplotlib.pyplot as plt\n",
    "from sklearn.decomposition import PCA\n",
    "from sklearn.metrics import silhouette_score"
   ]
  },
  {
   "cell_type": "code",
   "execution_count": 2,
   "metadata": {},
   "outputs": [],
   "source": [
    "# general\n",
    "SEED = 42"
   ]
  },
  {
   "cell_type": "markdown",
   "metadata": {},
   "source": [
    "# Loading data"
   ]
  },
  {
   "cell_type": "code",
   "execution_count": 12,
   "metadata": {},
   "outputs": [
    {
     "name": "stdout",
     "output_type": "stream",
     "text": [
      "0    None\n",
      "1    None\n",
      "2    None\n",
      "3    None\n",
      "4    None\n",
      "Name: KEY_POINT, dtype: object\n"
     ]
    }
   ],
   "source": [
    "df = pd.read_feather(\"../Data/df_dta.feather\")\n",
    "\n",
    "print(df['KEY_POINT'].head())"
   ]
  },
  {
   "cell_type": "code",
   "execution_count": 33,
   "metadata": {},
   "outputs": [
    {
     "name": "stdout",
     "output_type": "stream",
     "text": [
      "['\"Patients reported uncertainty about whether symptoms were directly caused by the disease or related to treatment side-effects.\"', '\"Intense fatigue and a permanent state of weakness  impacted their daily activities (e.g. driving) and required increased rest.\"', '\"Need to spend long hours in the restroom.\"', '\"Need to spend long hours in the restroom.\"', '\"Need to spend long hours in the restroom.\"']\n",
      "\n",
      "\n",
      "amount of keypoints: 56\n"
     ]
    }
   ],
   "source": [
    "df_valid = df.dropna(subset=['KEY_POINT'])\n",
    "keypoints = df_valid['KEY_POINT'].tolist()\n",
    "\n",
    "print(keypoints[:5])\n",
    "print(\"\\n\")\n",
    "print(\"amount of keypoints:\", len(keypoints))"
   ]
  },
  {
   "cell_type": "markdown",
   "metadata": {},
   "source": [
    "# Unsupervised learning"
   ]
  },
  {
   "cell_type": "markdown",
   "metadata": {},
   "source": [
    "## ClinicalBERT"
   ]
  },
  {
   "cell_type": "code",
   "execution_count": 34,
   "metadata": {},
   "outputs": [
    {
     "name": "stderr",
     "output_type": "stream",
     "text": [
      "Asking to truncate to max_length but no maximum length is provided and the model has no predefined maximum length. Default to no truncation.\n"
     ]
    },
    {
     "name": "stdout",
     "output_type": "stream",
     "text": [
      "torch.Size([56, 768])\n"
     ]
    }
   ],
   "source": [
    "model_name = \"emilyalsentzer/Bio_ClinicalBERT\"\n",
    "model = AutoModel.from_pretrained(model_name)\n",
    "tokenizer = AutoTokenizer.from_pretrained(model_name)\n",
    "\n",
    "inputs = tokenizer(keypoints, padding=True, truncation=True, return_tensors=\"pt\")\n",
    "\n",
    "with torch.no_grad():  # Disable gradient calculation to save memory\n",
    "    outputs = model(**inputs)\n",
    "\n",
    "last_hidden_states = outputs.last_hidden_state\n",
    "pooled_output = last_hidden_states.mean(dim=1)\n",
    "print(pooled_output.shape)\n",
    "\n",
    "pooled_output_np = pooled_output.detach().cpu().numpy()"
   ]
  },
  {
   "cell_type": "markdown",
   "metadata": {},
   "source": [
    "### KMeans"
   ]
  },
  {
   "cell_type": "code",
   "execution_count": 50,
   "metadata": {},
   "outputs": [
    {
     "name": "stdout",
     "output_type": "stream",
     "text": [
      "urgency_level\n",
      "0.0    29\n",
      "1.0    27\n",
      "Name: count, dtype: int64\n"
     ]
    },
    {
     "name": "stderr",
     "output_type": "stream",
     "text": [
      "C:\\Users\\Gebruiker\\AppData\\Local\\Temp\\ipykernel_26056\\4067332958.py:6: SettingWithCopyWarning: \n",
      "A value is trying to be set on a copy of a slice from a DataFrame.\n",
      "Try using .loc[row_indexer,col_indexer] = value instead\n",
      "\n",
      "See the caveats in the documentation: https://pandas.pydata.org/pandas-docs/stable/user_guide/indexing.html#returning-a-view-versus-a-copy\n",
      "  df_valid['urgency_level'] = kmeans.labels_\n"
     ]
    }
   ],
   "source": [
    "n_clusters = 2\n",
    "kmeans = KMeans(n_clusters=n_clusters, random_state=42)\n",
    "kmeans.fit(pooled_output_np)\n",
    "\n",
    "# Add the cluster labels to the valid subset\n",
    "df_valid['urgency_level'] = kmeans.labels_\n",
    "\n",
    "# Now reassign the labels to the original DataFrame using the valid indices\n",
    "df.loc[df_valid.index, 'urgency_level'] = df_valid['urgency_level']\n",
    "\n",
    "# Check the distribution of urgency levels\n",
    "print(df['urgency_level'].value_counts())"
   ]
  },
  {
   "cell_type": "code",
   "execution_count": 51,
   "metadata": {},
   "outputs": [
    {
     "name": "stdout",
     "output_type": "stream",
     "text": [
      "     urgency_level                                          KEY_POINT\n",
      "11               1  \"Patients reported uncertainty about whether s...\n",
      "12               1  \"Intense fatigue and a permanent state of weak...\n",
      "13               1        \"Need to spend long hours in the restroom.\"\n",
      "21               1        \"Need to spend long hours in the restroom.\"\n",
      "27               1        \"Need to spend long hours in the restroom.\"\n",
      "34               1  \"Stress stemmed from the fear of disease progr...\n",
      "35               1  \"Stress stemmed from the fear of disease progr...\n",
      "36               0  \"The ineffectiveness of prescribed treatments ...\n",
      "40               0  \"Difficulty accepting and living with the dise...\n",
      "55               0  \"Multiple treatments were often attempted befo...\n",
      "56               0  \"Uncertainty about treatment effectiveness and...\n",
      "57               0  \"Side-effects following surgery, such as physi...\n",
      "64               0  \"Patients were generally satisfied the with fo...\n",
      "65               0  \"The quality of information was perceived to b...\n",
      "66               1  \"While generally finding the received informat...\n",
      "67               1  \"Involvement in treatment choice varied: some ...\n",
      "68               0  \"Non-specific symptoms often resulted in initi...\n",
      "71               0  \"Symptoms of CD make it challenging to thrive ...\n",
      "73               0  \"Participants reported absenteeism due to flar...\n",
      "74               0  \"The accumulation of non-reimbursed expenses o...\n",
      "75               0  \"The accumulation of non-reimbursed expenses o...\n",
      "76               0  \"Indirect costs such as parking fees, househol...\n",
      "101              1  \"Fluctuating and unpredictable energy levels i...\n",
      "107              0  \"The cancer diagnosis appeared as a shock.\";\"T...\n",
      "108              0  \"The cancer diagnosis appeared as a shock.\";\"T...\n",
      "109              0  \"The cancer diagnosis appeared as a shock.\";\"T...\n",
      "110              0  \"The cancer diagnosis appeared as a shock.\";\"T...\n",
      "111              0  \"The cancer diagnosis appeared as a shock.\";\"T...\n",
      "112              0  \"The cancer diagnosis appeared as a shock.\";\"T...\n",
      "123              1  \"Impacts on mobility included no longer being ...\n",
      "126              0  \"Patients expressed doubts about treatment eff...\n",
      "127              0  \"Patients expressed doubts about treatment eff...\n",
      "128              1  \"Treatments were considered very time-consumin...\n",
      "129              1  \"Surgery sometimes impacted mobility and also ...\n",
      "130              1  \"Surgery sometimes impacted mobility and also ...\n",
      "131              1  \"Surgery sometimes impacted mobility and also ...\n",
      "132              1  \"Surgery sometimes impacted mobility and also ...\n",
      "133              1  \"Surgery sometimes impacted mobility and also ...\n",
      "134              1  \"Surgery sometimes impacted mobility and also ...\n",
      "135              1  \"Surgery sometimes impacted mobility and also ...\n",
      "136              1  \"Patients reported coping with a heavy adminis...\n",
      "137              0  \"Sub-optimal communication was sometimes used ...\n",
      "138              1  \"Difficulty in finding useful information pitc...\n",
      "139              1  \"Treatment options were sometimes perceived as...\n",
      "140              0  \"The decision to seek medical help for first s...\n",
      "141              0  \"The lack of dermatologists significantly dela...\n",
      "143              0  \"Patient associations, like Facebook pages and...\n",
      "146              0  \"Minimal or no healthcare out-of-pocket expens...\n",
      "147              0  \"Regular hospital parking expenses contributed...\n",
      "153              1  \"Adverse psychological consequences affected p...\n",
      "159              1  \"Cytostatic drugs are toxic chemicals classifi...\n",
      "173              1  \"This fatigue is overwhelming, it could come u...\n",
      "202              1  \"Variety of symptoms and uncertainties about l...\n",
      "209              0  \"Acute COVID-19 is not always diagnosed\";\"Lack...\n",
      "210              1  \" Variety of symptoms and the many uncertainti...\n",
      "216              0  \"Includes purchases and adaptations related to...\n"
     ]
    }
   ],
   "source": [
    "print(df_valid[['urgency_level', 'KEY_POINT']])"
   ]
  },
  {
   "cell_type": "code",
   "execution_count": 52,
   "metadata": {},
   "outputs": [
    {
     "data": {
      "image/png": "[encoded data removed]",
      "text/plain": [
       "<Figure size 800x600 with 2 Axes>"
      ]
     },
     "metadata": {},
     "output_type": "display_data"
    }
   ],
   "source": [
    "pca = PCA(n_components=2)\n",
    "pooled_output_pca = pca.fit_transform(pooled_output_np)\n",
    "\n",
    "# Scatter plot of clusters\n",
    "plt.figure(figsize=(8,6))\n",
    "plt.scatter(pooled_output_pca[:, 0], pooled_output_pca[:, 1], c=kmeans.labels_, cmap='viridis', alpha=0.7)\n",
    "plt.colorbar(label=\"Cluster Label\")\n",
    "plt.xlabel(\"PCA Component 1\")\n",
    "plt.ylabel(\"PCA Component 2\")\n",
    "plt.title(\"PCA Visualization of Clusters\")\n",
    "plt.show()"
   ]
  },
  {
   "cell_type": "code",
   "execution_count": 53,
   "metadata": {},
   "outputs": [
    {
     "name": "stdout",
     "output_type": "stream",
     "text": [
      "Silhouette Score: 0.13702787\n"
     ]
    }
   ],
   "source": [
    "silhouette_avg = silhouette_score(pooled_output_np, kmeans.labels_)\n",
    "print(\"Silhouette Score:\", silhouette_avg)"
   ]
  },
  {
   "cell_type": "code",
   "execution_count": null,
   "metadata": {},
   "outputs": [],
   "source": []
  }
 ],
 "metadata": {
  "kernelspec": {
   "display_name": "env_thesis",
   "language": "python",
   "name": "env_thesis"
  },
  "language_info": {
   "codemirror_mode": {
    "name": "ipython",
    "version": 3
   },
   "file_extension": ".py",
   "mimetype": "text/x-python",
   "name": "python",
   "nbconvert_exporter": "python",
   "pygments_lexer": "ipython3",
   "version": "3.13.2"
  }
 },
 "nbformat": 4,
 "nbformat_minor": 4
}
